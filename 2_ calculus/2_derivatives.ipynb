{
 "cells": [
  {
   "cell_type": "code",
   "execution_count": null,
   "id": "52e074cb",
   "metadata": {},
   "outputs": [],
   "source": [
    "# Derivative\n",
    "\n",
    "# A derivative measures how a function changes as its input changes – it tells us the \n",
    "# instantaneous rate of change, or the slope of the function at any point."
   ]
  },
  {
   "cell_type": "code",
   "execution_count": null,
   "id": "b2df0ab9",
   "metadata": {},
   "outputs": [],
   "source": [
    "# Mathematically, if f(x) is a function, its derivative at x is:\n",
    "\n",
    "# f′(x) = lim h→0 [f(x+h) − f(x)] / h\n",
    "\n",
    "# Example: If a car’s position is given by f(t), its derivative f′(t) is the velocity.\n",
    "\n",
    "\n",
    "# Basic Rules for Derivatives:\n",
    "# Power rule: f(x) = xⁿ ⇒ f′(x) = n·xⁿ⁻¹\n",
    "# Constant rule: The derivative of a constant is zero.\n",
    "# Sum rule: The derivative of two functions added is the sum of their derivatives.\n",
    "# Product rule: The derivative of f(x)g(x) is f′(x)g(x) + f(x)g′(x).\n",
    "# Quotient rule: The derivative of f(x)/g(x) is [f′(x)g(x) − f(x)g′(x)] / g(x)².\n",
    "# Chain rule: Used for composite functions, y = f(g(x))."
   ]
  },
  {
   "cell_type": "code",
   "execution_count": null,
   "id": "036e3684",
   "metadata": {},
   "outputs": [],
   "source": [
    "# Symbolic derivatives and numerical derivatives are two major ways to compute how a \n",
    "# function changes, each serving different purposes and having unique characteristics."
   ]
  },
  {
   "cell_type": "code",
   "execution_count": null,
   "id": "4f4bcf54",
   "metadata": {},
   "outputs": [],
   "source": [
    "# Symbolic Derivatives\n",
    "\n",
    "# A symbolic derivative is the exact mathematical expression you get when you \n",
    "# differentiate a function using differentiation rules like the power, product, \n",
    "# quotient, and chain rules.\n",
    "\n",
    "# Example: For the function f(x) = x² + 3x, the symbolic derivative is f′(x) = 2x + 3.\n",
    "\n",
    "# You use algebra and calculus to get expressions in terms of variables. \n",
    "# Symbolic results can then be applied for any value of the variables."
   ]
  },
  {
   "cell_type": "code",
   "execution_count": 1,
   "id": "f8cf0de3",
   "metadata": {},
   "outputs": [
    {
     "name": "stdout",
     "output_type": "stream",
     "text": [
      "2*x + 3\n"
     ]
    }
   ],
   "source": [
    "# Symbolic Differentiation \n",
    "\n",
    "from sympy import symbols, diff\n",
    "x = symbols('x')\n",
    "f = x**2 + 3*x\n",
    "derivative = diff(f, x)  # Outputs: 2*x + 3\n",
    "\n",
    "print(derivative)"
   ]
  },
  {
   "cell_type": "code",
   "execution_count": null,
   "id": "269342cc",
   "metadata": {},
   "outputs": [],
   "source": [
    "# Numerical Derivatives\n",
    "\n",
    "# A numerical derivative estimates the derivative at a specific point using arithmetic \n",
    "# calculations, typically finite differences.\n",
    "\n",
    "# For example, for f(x) at x = a, the numerical derivative is:\n",
    "\n",
    "# f′(a) ≈ (f(a + h) − f(a)) / h\n",
    "# for some very small h.\n",
    "\n",
    "# This is useful when the function is known only by values, such as from a dataset or \n",
    "# measurements, or when the function is too complex for symbolic differentiation."
   ]
  },
  {
   "cell_type": "code",
   "execution_count": 2,
   "id": "1aa22cd9",
   "metadata": {},
   "outputs": [
    {
     "name": "stdout",
     "output_type": "stream",
     "text": [
      "7.000010000091094\n"
     ]
    }
   ],
   "source": [
    "# Numerical differentiation\n",
    "\n",
    "import numpy as np\n",
    "def f(x): return x**2 + 3*x\n",
    "a = 2\n",
    "h = 1e-5\n",
    "numerical_derivative = (f(a + h) - f(a)) / h  # Outputs ~7\n",
    "\n",
    "print(numerical_derivative)"
   ]
  },
  {
   "cell_type": "code",
   "execution_count": null,
   "id": "589fd7e0",
   "metadata": {},
   "outputs": [],
   "source": [
    "# Symbolic derivatives yield formulas that work for all input values.\n",
    "\n",
    "# Numerical derivatives provide single values and are especially useful when only \n",
    "# sample data is available.\n",
    "\n",
    "# Both methods are important: symbolic for formulas and theory, numerical for applied \n",
    "# science, engineering, and real-world data."
   ]
  },
  {
   "cell_type": "code",
   "execution_count": null,
   "id": "8ac5fc91",
   "metadata": {},
   "outputs": [],
   "source": [
    "# Partial Derivatives\n",
    "\n",
    "# Partial derivatives apply to functions of more than one variable. \n",
    "# Each partial derivative measures how the function changes with respect to one \n",
    "# variable, while treating the other variables as constant.\n",
    "\n",
    "# Given a function f(x, y):\n",
    "# Partial derivative with respect to x:\n",
    "#       ∂f/∂x (x, y) = lim (h→0) [ f(x + h, y) − f(x, y) ] / h\n",
    "\n",
    "# Partial derivative with respect to y:\n",
    "#       ∂f/∂y (x, y) = lim (h→0) [ f(x, y + h) − f(x, y) ] / h\n",
    "\n",
    "# This is similar to the usual single-variable derivative, but only one variable \n",
    "# changes at a time.\n",
    "\n",
    "# For f(x, y) = x²y + y³, the partial derivative,\n",
    "#   - with respect to x is 2xy\n",
    "#   - with respect to y, is x² + 3y²."
   ]
  },
  {
   "cell_type": "code",
   "execution_count": null,
   "id": "79a50ef5",
   "metadata": {},
   "outputs": [
    {
     "name": "stdout",
     "output_type": "stream",
     "text": [
      "2*x*y\n",
      "x**2 + 3*y**2\n"
     ]
    }
   ],
   "source": [
    "# Symbolic differentiation\n",
    "\n",
    "from sympy import symbols, diff\n",
    "\n",
    "x, y = symbols('x y')\n",
    "func = x**2 * y + y**3\n",
    "\n",
    "# Partial derivative with respect to x\n",
    "partial_x = diff(func, x)\n",
    "# Partial derivative with respect to y\n",
    "partial_y = diff(func, y)\n",
    "\n",
    "print(partial_x)  # Output: 2*x*y\n",
    "print(partial_y)  # Output: x**2 + 3*y**2\n"
   ]
  },
  {
   "cell_type": "code",
   "execution_count": null,
   "id": "7d16e6a7",
   "metadata": {},
   "outputs": [
    {
     "name": "stdout",
     "output_type": "stream",
     "text": [
      "2.00001000001393\n",
      "4.000010000027032\n"
     ]
    }
   ],
   "source": [
    "# Numerical differentiation\n",
    "\n",
    "def partial_derivative_x(f, x, y, h=1e-5):\n",
    "    return (f(x + h, y) - f(x, y)) / h\n",
    "\n",
    "def partial_derivative_y(f, x, y, h=1e-5):\n",
    "    return (f(x, y + h) - f(x, y)) / h\n",
    "\n",
    "# Example: f(x, y) = x**2 + y**2\n",
    "f = lambda x, y: x**2 + y**2\n",
    "print(partial_derivative_x(f, 1, 2))  # ~2\n",
    "print(partial_derivative_y(f, 1, 2))  # ~4\n"
   ]
  },
  {
   "cell_type": "code",
   "execution_count": null,
   "id": "10448b71",
   "metadata": {},
   "outputs": [],
   "source": [
    "# Sources:\n",
    "# [1](https://www.turing.com/kb/derivative-functions-in-python)\n",
    "# [2](https://www.tutorialspoint.com/how-to-calculate-and-plot-the-derivative-of-a-function-using-python-ndash-matplotlib)\n",
    "# [3](http://www.learningaboutelectronics.com/Articles/How-to-find-the-partial-derivative-of-a-function-in-Python.php)\n",
    "# [4](https://codesignal.com/learn/courses/advanced-calculus-for-machine-learning/lessons/derivatives-for-multivariable-functions)\n",
    "# [5](https://dev.to/erikwhiting88/calculate-derivative-functions-in-python-h58)\n",
    "# [6](https://www.youtube.com/watch?v=DeeoiE22bZ8)\n",
    "# [7](https://stackoverflow.com/questions/9876290/how-do-i-compute-derivative-using-numpy)\n",
    "# [8](https://www.reddit.com/r/optimization/comments/n2ktq8/numerical_partial_derivative_in_python/)\n",
    "# [9](https://www.geeksforgeeks.org/python/python-sympy-derivative-method/)\n",
    "# [10](https://github.com/google/jax/discussions/20604)\n",
    "# [11](https://www.youtube.com/watch?v=YFS8EHKR2Fw)\n",
    "# [12](https://www.ucscout.org/courses/precalc)\n",
    "# [13](https://www.geeksforgeeks.org/python/graph-plotting-in-python-set-1/)"
   ]
  }
 ],
 "metadata": {
  "kernelspec": {
   "display_name": "base",
   "language": "python",
   "name": "python3"
  },
  "language_info": {
   "codemirror_mode": {
    "name": "ipython",
    "version": 3
   },
   "file_extension": ".py",
   "mimetype": "text/x-python",
   "name": "python",
   "nbconvert_exporter": "python",
   "pygments_lexer": "ipython3",
   "version": "3.13.5"
  }
 },
 "nbformat": 4,
 "nbformat_minor": 5
}
