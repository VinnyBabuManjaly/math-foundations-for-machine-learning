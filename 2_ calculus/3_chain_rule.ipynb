{
 "cells": [
  {
   "cell_type": "code",
   "execution_count": null,
   "id": "551c1b09",
   "metadata": {},
   "outputs": [],
   "source": [
    "# Chain Rule\n",
    "\n",
    "# The chain rule is a fundamental formula in calculus used to find the derivative \n",
    "# of composite functions, that is, functions inside other functions."
   ]
  },
  {
   "cell_type": "code",
   "execution_count": null,
   "id": "ae009ee1",
   "metadata": {},
   "outputs": [],
   "source": [
    "# Core Idea\n",
    "\n",
    "# If a variable y depends on u, which itself depends on x, then the rate at which y \n",
    "# changes with respect to x can be found by multiplying the rate at which y changes \n",
    "# with respect to u by the rate at which u changes with respect to x:\n",
    "#           dy/dx = (dy/du) · (du/dx)\n",
    "\n",
    "# Or, for a composite function f(g(x)):\n",
    "#           d/dx f(g(x)) = f′(g(x)) · g′(x)\n",
    "\n",
    "# This means: take the derivative of the outer function (keeping the inner function \n",
    "# unchanged), then multiply by the derivative of the inner function."
   ]
  },
  {
   "cell_type": "code",
   "execution_count": null,
   "id": "3af49013",
   "metadata": {},
   "outputs": [],
   "source": [
    "# Chain Rule for Multiple Compositions\n",
    "\n",
    "# If y = f(g(h(x))), then\n",
    "#           dy/dx = f′(g(h(x))) · g′(h(x)) · h′(x)"
   ]
  },
  {
   "cell_type": "code",
   "execution_count": null,
   "id": "3a43636a",
   "metadata": {},
   "outputs": [],
   "source": [
    "# Step-by-Step Explanation\n",
    "\n",
    "# Step 1: dentify the Inner and Outer Functions\n",
    "# For y = sin(2x² − 6x):\n",
    "#       Inner: u(x) = 2x² − 6x\n",
    "#       Outer: v(u) = sin(u)\n",
    "\n",
    "# Step 2: Differentiate the Outer Function with Respect to the Inner Function\n",
    "#       dv/du = cos(u)\n",
    "\n",
    "# Step 3: Differentiate the Inner Function with Respect to x\n",
    "#       du/dx = 4x − 6\n",
    "\n",
    "# Step 4: Multiply the Results\n",
    "# Final derivative:\n",
    "#       dy/dx = cos(2x² − 6x) · (4x − 6)"
   ]
  },
  {
   "cell_type": "code",
   "execution_count": 2,
   "id": "a8cd5ce3",
   "metadata": {},
   "outputs": [
    {
     "name": "stdout",
     "output_type": "stream",
     "text": [
      "(4*x - 6)*cos(2*x**2 - 6*x)\n"
     ]
    }
   ],
   "source": [
    "from sympy import symbols, diff, sin\n",
    "\n",
    "x = symbols('x')\n",
    "f = sin(2*x**2 - 6*x)\n",
    "derivative = diff(f, x)\n",
    "print(derivative)  # Output: (4*x - 6)*cos(2*x**2 - 6*x)"
   ]
  },
  {
   "cell_type": "code",
   "execution_count": null,
   "id": "5885daee",
   "metadata": {},
   "outputs": [],
   "source": [
    "# For example,\n",
    "\n",
    "# For y = e^(5x³):\n",
    "\n",
    "# Outer: f(u) = e^u, f′(u) = e^u\n",
    "# Inner: g(x) = 5x³, g′(x) = 15x²\n",
    "# So y′ = e^(5x³) · 15x²\n",
    "\n",
    "# For h(x) = ln(cosx):\n",
    "\n",
    "# Outer: f(u) = ln(u), f′(u) = 1/u\n",
    "# Inner: g(x) = cosx, g′(x) = −sinx\n",
    "# So h′(x) = −sinx / cosx = −tanx"
   ]
  },
  {
   "cell_type": "code",
   "execution_count": 5,
   "id": "83dea3d3",
   "metadata": {},
   "outputs": [
    {
     "name": "stdout",
     "output_type": "stream",
     "text": [
      "15*x**2*exp(5*x**3)\n",
      "-sin(x)/cos(x)\n"
     ]
    }
   ],
   "source": [
    "# For y = e^(5x³):\n",
    "from sympy import exp, symbols, diff, ln, cos\n",
    "\n",
    "x = symbols('x')\n",
    "f = exp(5*x**3)\n",
    "derivative = diff(f, x)\n",
    "print(derivative)  # Output: 15*x**2*exp(5*x\n",
    "\n",
    "# For h(x) = ln(cosx):\n",
    "x = symbols('x')\n",
    "f = ln(cos(x))\n",
    "derivative = diff(f, x)\n",
    "print(derivative)  # Output: -tan(x)\n"
   ]
  },
  {
   "cell_type": "code",
   "execution_count": null,
   "id": "a5abd254",
   "metadata": {},
   "outputs": [],
   "source": [
    "# Sources:\n",
    "# [1](https://byjus.com/maths/chain-rule/)\n",
    "# [2](https://en.wikipedia.org/wiki/Chain_rule)\n",
    "# [3](https://tutorial.math.lamar.edu/classes/calci/chainrule.aspx)\n",
    "# [4](https://www.mathcentre.ac.uk/resources/uploaded/mc-ty-chain-2009-1.pdf)\n",
    "# [5](https://math.libretexts.org/Bookshelves/Calculus/Calculus_(OpenStax)/03:_Derivatives/3.06:_The_Chain_Rule)\n",
    "# [6](https://www.khanacademy.org/math/ap-calculus-ab/ab-differentiation-2-new/ab-3-1a/v/chain-rule-introduction)\n",
    "# [7](https://www.khanacademy.org/math/ap-calculus-ab/ab-differentiation-2-new/ab-3-1a/a/chain-rule-review)\n",
    "# [8](https://www.youtube.com/watch?v=HaHsqDjWMLU)\n",
    "# [9](https://calcworkshop.com/derivatives/chain-rule/)\n",
    "# [10](https://www.youtube.com/watch?v=2r5JDr1U72M)"
   ]
  }
 ],
 "metadata": {
  "kernelspec": {
   "display_name": "base",
   "language": "python",
   "name": "python3"
  },
  "language_info": {
   "codemirror_mode": {
    "name": "ipython",
    "version": 3
   },
   "file_extension": ".py",
   "mimetype": "text/x-python",
   "name": "python",
   "nbconvert_exporter": "python",
   "pygments_lexer": "ipython3",
   "version": "3.13.5"
  }
 },
 "nbformat": 4,
 "nbformat_minor": 5
}
