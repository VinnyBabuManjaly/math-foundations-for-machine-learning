{
 "cells": [
  {
   "cell_type": "code",
   "execution_count": null,
   "id": "04ee309f",
   "metadata": {},
   "outputs": [],
   "source": [
    "# What Are Norms?\n",
    "# Norms are functions that measure the length or size of vectors.\n",
    "# They assign a non-negative number (a scalar) representing magnitude.\n",
    "\n",
    "# Norms must satisfy certain properties:\n",
    "#       - Non-negativity: Norm is always ≥ 0.\n",
    "#       - Definiteness: Norm is 0 only if the vector is all zeros.\n",
    "#       - Triangle inequality: Norm of vector sum ≤ sum of norms.\n",
    "#       - Homogeneity: Scaling a vector scales the norm by absolute scalar value."
   ]
  },
  {
   "cell_type": "code",
   "execution_count": null,
   "id": "a705f3a3",
   "metadata": {},
   "outputs": [],
   "source": [
    "# General Formula for p-Norm\n",
    "\n",
    "# For a vector x = (x1, x2, …, xn), the p-norm is:\n",
    "#           ||x||p = (sum from i=1 to n of |xi|^p)^(1/p)\n",
    "\n",
    "# p is a positive real number.\n",
    "# |xi| is the absolute value of the i-th component.\n",
    "# The sum means adding over all components."
   ]
  },
  {
   "cell_type": "code",
   "execution_count": null,
   "id": "0527827f",
   "metadata": {},
   "outputs": [],
   "source": [
    "# Types of Norms:\n",
    "\n",
    "# Manhattan Norm (L1 norm)\n",
    "# Sum of absolute values of the vector components.\n",
    "# When p = 1, this is the Manhattan norm (or L1 norm).\n",
    "# Formula: ||x||1 = sum from i=1 to n of |xi|\n",
    "\n",
    "# Euclidean Norm (L2 norm)\n",
    "# Square root of the sum of the squared components.\n",
    "# When p = 2, this is the Euclidean norm (or L2 norm).\n",
    "# Formula: ||x||2 = sum from i=1 to n of xi^2\n",
    "\n",
    "# Maximum Norm (Infinity norm or L-infinity norm)\n",
    "# The maximum absolute value among the components.\n",
    "# When p approaches infinity, this norm considers only the largest absolute value.\n",
    "# Formula: ||x||∞ = max of |xi| over all i"
   ]
  },
  {
   "cell_type": "code",
   "execution_count": 2,
   "id": "444e99b1",
   "metadata": {},
   "outputs": [
    {
     "name": "stdout",
     "output_type": "stream",
     "text": [
      "L1 norm (Manhattan): 11.0 Manual: 11\n",
      "L2 norm (Euclidean): 6.244997998398398 Manual: 6.244997998398398\n",
      "L-infinity norm (Max): 5.0 Manual: 5\n"
     ]
    }
   ],
   "source": [
    "import numpy as np\n",
    "\n",
    "x = np.array([1, -3, 5, -2])\n",
    "\n",
    "# L1 norm\n",
    "# |1| + |−3| + |5| + |−2| = 1 + 3 + 5 + 2 = 11\n",
    "l1_norm = np.linalg.norm(x, 1)\n",
    "l1_manual = np.sum(np.abs(x))\n",
    "print(\"L1 norm (Manhattan):\", l1_norm, \"Manual:\", l1_manual)\n",
    "\n",
    "# L2 norm\n",
    "# sqrt(1² + (−3)² + 5² + (−2)²) = sqrt(1 + 9 + 25 + 4) = sqrt(39) ≈ 6.245\n",
    "l2_norm = np.linalg.norm(x, 2)\n",
    "l2_manual = np.sqrt(np.sum(x**2))\n",
    "print(\"L2 norm (Euclidean):\", l2_norm, \"Manual:\", l2_manual)\n",
    "\n",
    "# L-infinity norm\n",
    "# max(|1|, |−3|, |5|, |−2|) = 5\n",
    "linf_norm = np.linalg.norm(x, np.inf)\n",
    "linf_manual = np.max(np.abs(x))\n",
    "print(\"L-infinity norm (Max):\", linf_norm, \"Manual:\", linf_manual)"
   ]
  },
  {
   "cell_type": "code",
   "execution_count": 3,
   "id": "5fe73298",
   "metadata": {},
   "outputs": [
    {
     "name": "stdout",
     "output_type": "stream",
     "text": [
      "Norm Relationships:\n",
      "L1 norm >= L2 norm >= L-infinity norm: True\n"
     ]
    }
   ],
   "source": [
    "# Norm Relationships\n",
    "\n",
    "# Norm values follow this inequality for p ≤ q:\n",
    "# ||x||q ≤ ||x||p\n",
    "\n",
    "# This means as p increases, norms get smaller or stay the same.\n",
    "\n",
    "# For the above vector x:\n",
    "# L1 norm (11) ≥ L2 norm (≈6.245) ≥ L-infinity norm (5)\n",
    "print(\"Norm Relationships:\")\n",
    "print(\"L1 norm >= L2 norm >= L-infinity norm:\", l1_norm >= l2_norm >= linf_norm)\n"
   ]
  },
  {
   "cell_type": "code",
   "execution_count": null,
   "id": "afc188e4",
   "metadata": {},
   "outputs": [],
   "source": [
    "# Sources:\n",
    "# [1](https://www.kdnuggets.com/2023/05/vector-matrix-norms-numpy-linalg-norm.html)\n",
    "# [2](https://www.askpython.com/python/examples/compute-l1-l2-norms)\n",
    "# [3](https://aaronschlegel.me/vector-norms-inequalities-python.html)\n",
    "# [4](https://www.geeksforgeeks.org/python/return-the-norm-of-the-vector-over-given-axis-in-linear-algebra-using-numpy-in-python/)\n",
    "# [5](https://www.machinelearningmastery.com/vector-norms-machine-learning/)\n",
    "# [6](https://www.digitalocean.com/community/tutorials/norm-of-vector-python)\n",
    "# [7](https://www.nickmccullum.com/vector-norm-python/)\n",
    "# [8](https://codesignal.com/learn/courses/fundamentals-of-vectors-and-matrices-with-numpy/lessons/vector-properties-and-norms-with-numpy)\n",
    "# [9](https://numpy.org/doc/2.1/reference/generated/numpy.linalg.norm.html)"
   ]
  }
 ],
 "metadata": {
  "kernelspec": {
   "display_name": "base",
   "language": "python",
   "name": "python3"
  },
  "language_info": {
   "codemirror_mode": {
    "name": "ipython",
    "version": 3
   },
   "file_extension": ".py",
   "mimetype": "text/x-python",
   "name": "python",
   "nbconvert_exporter": "python",
   "pygments_lexer": "ipython3",
   "version": "3.13.5"
  }
 },
 "nbformat": 4,
 "nbformat_minor": 5
}
