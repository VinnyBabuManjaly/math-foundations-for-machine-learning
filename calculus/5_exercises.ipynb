{
 "cells": [
  {
   "cell_type": "code",
   "execution_count": 2,
   "id": "a5cf2b94",
   "metadata": {},
   "outputs": [
    {
     "name": "stdout",
     "output_type": "stream",
     "text": [
      "15*x**2 - 8*x + 6\n"
     ]
    }
   ],
   "source": [
    "from sympy import symbols, diff\n",
    "\n",
    "x = symbols('x')\n",
    "f = 5*x**3 - 4*x**2 + 6*x - 7\n",
    "\n",
    "derivative = diff(f, x)\n",
    "print(derivative)"
   ]
  },
  {
   "cell_type": "code",
   "execution_count": 3,
   "id": "73b38007",
   "metadata": {},
   "outputs": [
    {
     "name": "stdout",
     "output_type": "stream",
     "text": [
      "16.00004000010813\n"
     ]
    }
   ],
   "source": [
    "def partial_derivative_y(f, x, y, h=1e-5):\n",
    "    return (f(x, y + h) - f(x, y)) / h\n",
    "\n",
    "f = lambda x, y: 4*x*y**2 + x**2\n",
    "print(partial_derivative_y(f, 1, 2)) "
   ]
  }
 ],
 "metadata": {
  "kernelspec": {
   "display_name": "base",
   "language": "python",
   "name": "python3"
  },
  "language_info": {
   "codemirror_mode": {
    "name": "ipython",
    "version": 3
   },
   "file_extension": ".py",
   "mimetype": "text/x-python",
   "name": "python",
   "nbconvert_exporter": "python",
   "pygments_lexer": "ipython3",
   "version": "3.13.5"
  }
 },
 "nbformat": 4,
 "nbformat_minor": 5
}
