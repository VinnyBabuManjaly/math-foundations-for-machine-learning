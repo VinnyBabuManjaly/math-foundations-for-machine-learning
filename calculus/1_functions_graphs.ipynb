{
 "cells": [
  {
   "cell_type": "code",
   "execution_count": null,
   "id": "1a3a9ca1",
   "metadata": {},
   "outputs": [],
   "source": [
    "# What is a Function?\n",
    "\n",
    "# A function is a rule that assigns every input (from a set called the domain) exactly one output (in a set called the range).\n",
    "\n",
    "# Example: The function f(x) = 2x multiplies any input by 2."
   ]
  },
  {
   "cell_type": "code",
   "execution_count": null,
   "id": "46743c88",
   "metadata": {},
   "outputs": [],
   "source": [
    "# Domain and Range\n",
    "\n",
    "# Domain: The set of all input values for which the function is defined.\n",
    "# Example: For f(x) = 2x, the domain is all real numbers because you can multiply any number by 2.\n",
    "\n",
    "# Range: The set of outputs the function can produce.\n",
    "# Example: For f(x) = x², even though the domain could be all real numbers, the range is only numbers greater than or equal to zero."
   ]
  },
  {
   "cell_type": "code",
   "execution_count": null,
   "id": "b0514322",
   "metadata": {},
   "outputs": [],
   "source": [
    "# Types of Functions\n",
    "\n",
    "# Linear Function: Straight-line graph.\n",
    "# Example: f(x) = mx + b\n",
    "\n",
    "# Quadratic Function: Parabola shape.\n",
    "# Example: f(x) = ax² + bx + c\n",
    "\n",
    "# Polynomial Function: Can have many bends.\n",
    "# Example: f(x) = x³ − 2x² + x\n",
    "\n",
    "# Rational Function: Fractional.\n",
    "# Example: f(x) = 1/x\n",
    "\n",
    "# Exponential Function: Rapid growth.\n",
    "# Example: f(x) = 2ˣ\n",
    "\n",
    "# Logarithmic Function: Grows slowly.\n",
    "# Example: f(x) = log(x)"
   ]
  },
  {
   "cell_type": "code",
   "execution_count": null,
   "id": "96fe2afa",
   "metadata": {},
   "outputs": [],
   "source": [
    "# Defining, evaluating, and plotting these functions can be done by\n",
    "# using libraries like numpy and matplotlib."
   ]
  },
  {
   "cell_type": "code",
   "execution_count": 1,
   "id": "e9cb758d",
   "metadata": {},
   "outputs": [
    {
     "ename": "ModuleNotFoundError",
     "evalue": "No module named 'matplotlib'",
     "output_type": "error",
     "traceback": [
      "\u001b[31m---------------------------------------------------------------------------\u001b[39m",
      "\u001b[31mModuleNotFoundError\u001b[39m                       Traceback (most recent call last)",
      "\u001b[36mCell\u001b[39m\u001b[36m \u001b[39m\u001b[32mIn[1]\u001b[39m\u001b[32m, line 2\u001b[39m\n\u001b[32m      1\u001b[39m \u001b[38;5;28;01mimport\u001b[39;00m\u001b[38;5;250m \u001b[39m\u001b[34;01mnumpy\u001b[39;00m\u001b[38;5;250m \u001b[39m\u001b[38;5;28;01mas\u001b[39;00m\u001b[38;5;250m \u001b[39m\u001b[34;01mnp\u001b[39;00m\n\u001b[32m----> \u001b[39m\u001b[32m2\u001b[39m \u001b[38;5;28;01mimport\u001b[39;00m\u001b[38;5;250m \u001b[39m\u001b[34;01mmatplotlib\u001b[39;00m\u001b[34;01m.\u001b[39;00m\u001b[34;01mpyplot\u001b[39;00m\u001b[38;5;250m \u001b[39m\u001b[38;5;28;01mas\u001b[39;00m\u001b[38;5;250m \u001b[39m\u001b[34;01mplt\u001b[39;00m\n\u001b[32m      4\u001b[39m \u001b[38;5;66;03m# Define the domain\u001b[39;00m\n\u001b[32m      5\u001b[39m x = np.linspace(-\u001b[32m10\u001b[39m, \u001b[32m10\u001b[39m, \u001b[32m400\u001b[39m)  \u001b[38;5;66;03m# 400 points between -10 and 10\u001b[39;00m\n",
      "\u001b[31mModuleNotFoundError\u001b[39m: No module named 'matplotlib'"
     ]
    }
   ],
   "source": [
    "import numpy as np\n",
    "import matplotlib.pyplot as plt\n",
    "\n",
    "# Define the domain\n",
    "x = np.linspace(-10, 10, 400)  # 400 points between -10 and 10\n",
    "\n",
    "# Define different functions\n",
    "linear = 2*x + 1\n",
    "quadratic = x**2 - 4*x + 5\n",
    "polynomial = x**3 - x**2 + x\n",
    "rational = np.where(x != 0, 1/x, np.nan)  # avoid division by zero\n",
    "exponential = np.exp(x)\n",
    "logarithmic = np.where(x > 0, np.log(x), np.nan)  # logarithm only defined for x>0\n",
    "\n",
    "# Plotting\n",
    "plt.figure(figsize=(12, 8))\n",
    "\n",
    "plt.subplot(2, 3, 1)\n",
    "plt.plot(x, linear)\n",
    "plt.title('Linear: 2x + 1')\n",
    "plt.grid()"
   ]
  }
 ],
 "metadata": {
  "kernelspec": {
   "display_name": "myenvironment",
   "language": "python",
   "name": "python3"
  },
  "language_info": {
   "codemirror_mode": {
    "name": "ipython",
    "version": 3
   },
   "file_extension": ".py",
   "mimetype": "text/x-python",
   "name": "python",
   "nbconvert_exporter": "python",
   "pygments_lexer": "ipython3",
   "version": "3.13.5"
  }
 },
 "nbformat": 4,
 "nbformat_minor": 5
}
