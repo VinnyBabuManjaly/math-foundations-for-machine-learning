{
 "cells": [
  {
   "cell_type": "code",
   "execution_count": null,
   "id": "62cf2aaf",
   "metadata": {},
   "outputs": [],
   "source": [
    "# Matrix decomposition is the process of breaking a matrix into simpler, special \n",
    "# matrices that are easier to work with—helping in solving systems, inverting \n",
    "# matrices, or analyzing complex data. \n",
    "# \n",
    "# The two most common decompositions you encounter as a beginner are,\n",
    "#   - LU Decomposition \n",
    "#   - Singular Value Decomposition (SVD)\n",
    "\n",
    "# Just like factoring a number into primes, you can factor a matrix into \n",
    "# fundamental forms."
   ]
  },
  {
   "cell_type": "code",
   "execution_count": null,
   "id": "c29e2e84",
   "metadata": {},
   "outputs": [],
   "source": [
    "# Why Decompose Matrices?\n",
    "\n",
    "# - Solving Linear Systems: Decomposed matrices make it much more efficient and \n",
    "#   stable to solve equations of the form Ax = b.\n",
    "# - Inverting Matrices: If you can decompose a matrix, finding its inverse gets \n",
    "#   easier.\n",
    "# - Data Compression and Machine Learning: Data is compressed and patterns are \n",
    "#   extracted using techniques like SVD and PCA, which rely on matrix decomposition."
   ]
  },
  {
   "cell_type": "code",
   "execution_count": null,
   "id": "581469ae",
   "metadata": {},
   "outputs": [],
   "source": [
    "# LU Decomposition (Lower-Upper Decomposition)\n",
    "\n",
    "# LU decomposition writes a square matrix A as a product: \n",
    "#       A = LU, \n",
    "# or sometimes \n",
    "#       PA = LU \n",
    "# if row-swapping is needed (where P is a permutation matrix).\n",
    "\n",
    "# L = Lower triangular: all entries above the diagonal are zero.\n",
    "# U = Upper triangular: all entries below the diagonal are zero.\n",
    "\n",
    "# How Does It Help?\n",
    "# Solving Ax = b can be done in two easy triangular steps:\n",
    "#   - Solve Ly = b for y via forward substitution.\n",
    "#   - Solve Ux = y for x via back substitution.\n",
    "\n",
    "# Useful for inverting matrices, finding determinants, and more."
   ]
  },
  {
   "cell_type": "code",
   "execution_count": 1,
   "id": "d03bd310",
   "metadata": {},
   "outputs": [
    {
     "name": "stdout",
     "output_type": "stream",
     "text": [
      "P:\n",
      " [[0. 0. 1.]\n",
      " [0. 1. 0.]\n",
      " [1. 0. 0.]]\n",
      "L:\n",
      " [[1.         0.         0.        ]\n",
      " [0.66666667 1.         0.        ]\n",
      " [0.33333333 0.6        1.        ]]\n",
      "U:\n",
      " [[ 6.         18.         22.        ]\n",
      " [ 0.         -5.         -7.66666667]\n",
      " [ 0.          0.         -1.73333333]]\n",
      "PA:\n",
      " [[ 6. 18. 22.]\n",
      " [ 4.  7.  7.]\n",
      " [ 2.  3.  1.]]\n",
      "LU:\n",
      " [[ 6. 18. 22.]\n",
      " [ 4.  7.  7.]\n",
      " [ 2.  3.  1.]]\n"
     ]
    }
   ],
   "source": [
    "import numpy as np\n",
    "from scipy.linalg import lu\n",
    "\n",
    "A = np.array([[2, 3, 1],\n",
    "              [4, 7, 7],\n",
    "              [6, 18, 22]])\n",
    "\n",
    "P, L, U = lu(A)\n",
    "print(\"P:\\n\", P)\n",
    "print(\"L:\\n\", L)\n",
    "print(\"U:\\n\", U)\n",
    "# Verify that PA = LU\n",
    "print(\"PA:\\n\", np.dot(P, A))\n",
    "print(\"LU:\\n\", np.dot(L, U))"
   ]
  },
  {
   "cell_type": "code",
   "execution_count": 3,
   "id": "dc877c9c",
   "metadata": {},
   "outputs": [],
   "source": [
    "# Singular Value Decomposition (SVD)\n",
    "\n",
    "# SVD generalizes the concept to any matrix (not just square ones) and is central in statistics, \n",
    "# machine learning, and data science.\n",
    "\n",
    "# A = UΣVᵀ, \n",
    "# where:\n",
    "#       U = Orthogonal matrix (columns called left singular vectors)\n",
    "#       Σ = Diagonal matrix with non-negative numbers (singular values)\n",
    "#       Vᵀ = Transpose of an orthogonal matrix (columns are right singular vectors)\n",
    "\n",
    "# What Does SVD Do?\n",
    "#   - It lets you break a matrix down into a set of axes and scales.\n",
    "#   - Used to compress images, recommend Netflix shows, reduce noise from data, find patterns  \n",
    "#       and more.\n",
    "#   - You can even reconstruct A using only the largest few singular values for compact storage.\n",
    "\n"
   ]
  },
  {
   "cell_type": "code",
   "execution_count": null,
   "id": "2adaca14",
   "metadata": {},
   "outputs": [
    {
     "name": "stdout",
     "output_type": "stream",
     "text": [
      "U:\n",
      " [[-0.3863177   0.92236578]\n",
      " [-0.92236578 -0.3863177 ]]\n",
      "Singular values: [9.508032   0.77286964]\n",
      "VT:\n",
      " [[-0.42866713 -0.56630692 -0.7039467 ]\n",
      " [-0.80596391 -0.11238241  0.58119908]]\n",
      "A_reconstructed:\n",
      " [[1. 2. 3.]\n",
      " [4. 5. 6.]]\n"
     ]
    }
   ],
   "source": [
    "import numpy as np\n",
    "from scipy.linalg import svd\n",
    "\n",
    "A = np.array([[1, 2, 3],\n",
    "              [4, 5, 6]])\n",
    "\n",
    "U, S, VT = svd(A, full_matrices=False)\n",
    "print(\"U:\\n\", U)\n",
    "print(\"Singular values:\", S)\n",
    "print(\"VT:\\n\", VT)\n",
    "\n",
    "# Reconstruct A:\n",
    "A_reconstructed = U @ np.diag(S) @ VT\n",
    "print(\"A_reconstructed:\\n\", A_reconstructed)\n",
    "\n",
    "# U and Vᵀ are like rotations of the axes.\n",
    "# Σ squishes or stretches them. Usually, one or two singular values dominate—meaning your data \n",
    "# is actually lower rank and can be compressed efficiently."
   ]
  },
  {
   "cell_type": "code",
   "execution_count": null,
   "id": "d0e80e7f",
   "metadata": {},
   "outputs": [],
   "source": [
    "# Sources:\n",
    "# [1](https://calcworkshop.com/matrix-algebra/matrix-factorization/)\n",
    "# [2](https://www.machinelearningmastery.com/introduction-to-matrix-decompositions-for-machine-learning/)\n",
    "# [3](https://www.youtube.com/watch?v=hZy-_PPQQao)\n",
    "# [4](https://people.duke.edu/~ccc14/sta-663/LinearAlgebraMatrixDecompWithSolutions.html)\n",
    "# [5](https://yaydede.github.io/toolbox/matrix-decompositions.html)\n",
    "# [6](https://math.libretexts.org/Bookshelves/Combinatorics_and_Discrete_Mathematics/Applied_Discrete_Structures_(Doerr_and_Levasseur)/05:_Introduction_to_Matrix_Algebra/5.03:_Laws_of_Matrix_Algebra)\n",
    "# [7](https://codesignal.com/learn/courses/linear-algebra-with-scipy/lessons/matrix-decomposition-with-scipy)\n",
    "# [8](https://app.sophia.org/tutorials/matrix-decomposition)"
   ]
  }
 ],
 "metadata": {
  "kernelspec": {
   "display_name": "base",
   "language": "python",
   "name": "python3"
  },
  "language_info": {
   "codemirror_mode": {
    "name": "ipython",
    "version": 3
   },
   "file_extension": ".py",
   "mimetype": "text/x-python",
   "name": "python",
   "nbconvert_exporter": "python",
   "pygments_lexer": "ipython3",
   "version": "3.13.5"
  }
 },
 "nbformat": 4,
 "nbformat_minor": 5
}
