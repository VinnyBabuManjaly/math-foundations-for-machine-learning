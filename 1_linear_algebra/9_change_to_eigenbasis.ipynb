{
 "cells": [
  {
   "cell_type": "code",
   "execution_count": null,
   "id": "2494ff41",
   "metadata": {},
   "outputs": [],
   "source": [
    "# Why Change to the Eigenbasis?\n",
    "\n",
    "# When multiplying a matrix by itself many times (raising to a power), direct calculation becomes slow and complex.\n",
    "\n",
    "# Diagonalization makes these calculations easy—especially for large powers (e.g., T¹⁰⁰⁰).\n",
    "\n",
    "# In the eigenbasis, the matrix acts simply:\n",
    "# each basis vector just gets stretched by its eigenvalue."
   ]
  },
  {
   "cell_type": "code",
   "execution_count": null,
   "id": "33b7c9f7",
   "metadata": {},
   "outputs": [],
   "source": [
    "# Why This Matters for Powers\n",
    "\n",
    "# To compute Tⁿ efficiently:\n",
    "\n",
    "# Diagonalize:\n",
    "# T = C D C⁻¹\n",
    "\n",
    "# Raise to power:\n",
    "# Tⁿ = C Dⁿ C⁻¹\n",
    "\n",
    "# Where Dⁿ means simply raising each diagonal entry (the eigenvalues) to the power n."
   ]
  },
  {
   "cell_type": "code",
   "execution_count": 4,
   "id": "5c2b42e8",
   "metadata": {},
   "outputs": [
    {
     "name": "stdout",
     "output_type": "stream",
     "text": [
      "Eigenvalues: [3. 2.]\n",
      "Eigenvectors:\n",
      " [[ 1.         -0.70710678]\n",
      " [ 0.          0.70710678]]\n"
     ]
    }
   ],
   "source": [
    "# Step-by-Step: Diagonalizing a Matrix\n",
    "# Suppose we have a square matrix T.\n",
    "\n",
    "# Step 1: Find Eigenvalues and Eigenvectors\n",
    "\n",
    "import numpy as np\n",
    "T = np.array([[3, 1], [0, 2]])\n",
    "eigenvalues, eigenvectors = np.linalg.eig(T)\n",
    "\n",
    "print(\"Eigenvalues:\", eigenvalues)      \n",
    "print(\"Eigenvectors:\\n\", eigenvectors)\n",
    "\n",
    "# eigenvalues: These go on the diagonal of the new matrix.\n",
    "# eigenvectors: These become columns of the change-of-basis matrix."
   ]
  },
  {
   "cell_type": "code",
   "execution_count": 6,
   "id": "99e8e6e1",
   "metadata": {},
   "outputs": [
    {
     "name": "stdout",
     "output_type": "stream",
     "text": [
      "C:\n",
      " [[ 1.         -0.70710678]\n",
      " [ 0.          0.70710678]]\n",
      "D:\n",
      " [[3. 0.]\n",
      " [0. 2.]]\n",
      "Cinv:\n",
      " [[1.         1.        ]\n",
      " [0.         1.41421356]]\n"
     ]
    }
   ],
   "source": [
    "\n",
    "# Step 2: Build the Eigenbasis Conversion Matrix\n",
    "# Let C = matrix whose columns are the eigenvectors.\n",
    "# Let D = diagonal matrix with eigenvalues on the diagonal.\n",
    "\n",
    "C = eigenvectors\n",
    "D = np.diag(eigenvalues)\n",
    "C_inv = np.linalg.inv(C)\n",
    "\n",
    "print(\"C:\\n\", C)\n",
    "print(\"D:\\n\", D)\n",
    "print(\"Cinv:\\n\", C_inv)"
   ]
  },
  {
   "cell_type": "code",
   "execution_count": null,
   "id": "082de377",
   "metadata": {},
   "outputs": [
    {
     "name": "stdout",
     "output_type": "stream",
     "text": [
      "T diagonalized:\n",
      " [[3. 1.]\n",
      " [0. 2.]]\n",
      "Dⁿ:\n",
      " [[243.   0.]\n",
      " [  0.  32.]]\n",
      "Tⁿ:\n",
      " [[243. 211.]\n",
      " [  0.  32.]]\n"
     ]
    }
   ],
   "source": [
    "# Step 3: Diagonalize\n",
    "#  Diagonalization Formula: T = C D C⁻¹\n",
    "T_reconstructed = C @ D @ C_inv\n",
    "# @ means matrix multiplication.\n",
    "print(\"T diagonalized:\\n\", T_reconstructed)\n",
    "\n",
    "# Raise to power:\n",
    "# Tⁿ = C Dⁿ C⁻¹\n",
    "\n",
    "# For n = 5\n",
    "D_n = np.diag(eigenvalues ** 5)\n",
    "print(\"Dⁿ:\\n\", D_n)\n",
    "\n",
    "T_n = C @ D_n @ C_inv\n",
    "print(\"Tⁿ:\\n\", T_n)\n"
   ]
  }
 ],
 "metadata": {
  "kernelspec": {
   "display_name": "myenvironment",
   "language": "python",
   "name": "python3"
  },
  "language_info": {
   "codemirror_mode": {
    "name": "ipython",
    "version": 3
   },
   "file_extension": ".py",
   "mimetype": "text/x-python",
   "name": "python",
   "nbconvert_exporter": "python",
   "pygments_lexer": "ipython3",
   "version": "3.13.5"
  }
 },
 "nbformat": 4,
 "nbformat_minor": 5
}
