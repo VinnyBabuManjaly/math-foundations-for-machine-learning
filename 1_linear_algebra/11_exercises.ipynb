{
 "cells": [
  {
   "cell_type": "code",
   "execution_count": 1,
   "id": "e03539e2",
   "metadata": {},
   "outputs": [
    {
     "name": "stdout",
     "output_type": "stream",
     "text": [
      "[-22  10  -1]\n"
     ]
    }
   ],
   "source": [
    "import numpy as np\n",
    "\n",
    "a = np.array([2, 5, 6])\n",
    "b = np.array([3, 7, 4])\n",
    "\n",
    "crossProduct = np.cross(a, b)\n",
    "print(crossProduct)"
   ]
  },
  {
   "cell_type": "code",
   "execution_count": 6,
   "id": "aa575dde",
   "metadata": {},
   "outputs": [
    {
     "name": "stdout",
     "output_type": "stream",
     "text": [
      "[[ 8 23]\n",
      " [ 4 46]]\n"
     ]
    }
   ],
   "source": [
    "a = np.array([[2, 3, 1],\n",
    "             [4, 0, 5]])\n",
    "b = np.array([[1, 4],\n",
    "             [2, 3],\n",
    "             [0, 6]])\n",
    "\n",
    "crossProduct = a @ b\n",
    "print(crossProduct)"
   ]
  },
  {
   "cell_type": "code",
   "execution_count": 7,
   "id": "0ba82c6e",
   "metadata": {},
   "outputs": [
    {
     "name": "stdout",
     "output_type": "stream",
     "text": [
      "[5. 2.]\n"
     ]
    }
   ],
   "source": [
    "A = np.array([[4, 1],\n",
    "              [2, 3]])\n",
    "eigvalues, _ = np.linalg.eig(A)\n",
    "print(eigvalues)"
   ]
  },
  {
   "cell_type": "code",
   "execution_count": 8,
   "id": "4c03caf6",
   "metadata": {},
   "outputs": [
    {
     "name": "stdout",
     "output_type": "stream",
     "text": [
      "[6. 1.]\n"
     ]
    }
   ],
   "source": [
    "v = np.array([3, 2])\n",
    "T = np.array([[2, 0],\n",
    "              [0, 0.5]])\n",
    "\n",
    "result = v @ T\n",
    "print(result)\n",
    "\n"
   ]
  },
  {
   "cell_type": "code",
   "execution_count": 9,
   "id": "feda68d3",
   "metadata": {},
   "outputs": [
    {
     "name": "stdout",
     "output_type": "stream",
     "text": [
      "P:\n",
      " [[0. 1.]\n",
      " [1. 0.]]\n",
      "L:\n",
      " [[1.   0.  ]\n",
      " [0.25 1.  ]]\n",
      "U:\n",
      " [[ 8.    7.  ]\n",
      " [ 0.   -0.75]]\n",
      "PA:\n",
      " [[8. 7.]\n",
      " [2. 1.]]\n",
      "LU:\n",
      " [[8. 7.]\n",
      " [2. 1.]]\n"
     ]
    }
   ],
   "source": [
    "from scipy.linalg import lu\n",
    "\n",
    "A = np.array([[2, 1],\n",
    "              [8, 7]])\n",
    "P, L, U = lu(A)\n",
    "\n",
    "print(\"P:\\n\", P)\n",
    "print(\"L:\\n\", L)\n",
    "print(\"U:\\n\", U)\n",
    "# Verify that PA = LU\n",
    "print(\"PA:\\n\", np.dot(P, A))\n",
    "print(\"LU:\\n\", np.dot(L, U))\n"
   ]
  },
  {
   "cell_type": "code",
   "execution_count": 10,
   "id": "84dd91bf",
   "metadata": {},
   "outputs": [
    {
     "name": "stdout",
     "output_type": "stream",
     "text": [
      "L:\n",
      " [[1. 0.]\n",
      " [4. 1.]]\n",
      "U:\n",
      " [[2. 1.]\n",
      " [0. 3.]]\n",
      "L @ U:\n",
      " [[2. 1.]\n",
      " [8. 7.]]\n"
     ]
    }
   ],
   "source": [
    "# Doolittle LU decomposition for a 2x2 matrix (no pivoting)\n",
    "A = np.array([[2, 1],\n",
    "              [8, 7]])\n",
    "\n",
    "# Initialize L and U\n",
    "L = np.zeros((2,2))\n",
    "U = np.zeros((2,2))\n",
    "\n",
    "# Doolittle algorithm\n",
    "L[0,0] = 1\n",
    "L[1,0] = A[1,0] / A[0,0]\n",
    "L[1,1] = 1\n",
    "U[0,0] = A[0,0]\n",
    "U[0,1] = A[0,1]\n",
    "U[1,1] = A[1,1] - L[1,0]*U[0,1]\n",
    "\n",
    "print(\"L:\\n\", L)\n",
    "print(\"U:\\n\", U)\n",
    "# Verify that A = L @ U\n",
    "print(\"L @ U:\\n\", L @ U)"
   ]
  }
 ],
 "metadata": {
  "kernelspec": {
   "display_name": "base",
   "language": "python",
   "name": "python3"
  },
  "language_info": {
   "codemirror_mode": {
    "name": "ipython",
    "version": 3
   },
   "file_extension": ".py",
   "mimetype": "text/x-python",
   "name": "python",
   "nbconvert_exporter": "python",
   "pygments_lexer": "ipython3",
   "version": "3.13.5"
  }
 },
 "nbformat": 4,
 "nbformat_minor": 5
}
