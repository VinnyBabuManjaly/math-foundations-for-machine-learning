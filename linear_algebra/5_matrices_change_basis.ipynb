{
 "cells": [
  {
   "cell_type": "code",
   "execution_count": null,
   "id": "dd4a9d10",
   "metadata": {},
   "outputs": [],
   "source": [
    "# Matrices changing basis\n",
    "# A matrix can be thought of as a function that transforms vectors from one space to another.\n",
    "# The inverse of a matrix is like the \"undo\" button for that transformation.\\\\\n",
    "\n",
    "# Changing basis\n",
    "# In linear algebra, a basis is a set of vectors that can be combined to represent any vector in a given space.\n",
    "# Changing the basis of a vector space involves transforming the representation of vectors from one basis to another.\n",
    "# The inverse of a matrix is crucial in this context because it allows us to reverse the transformation applied by the original matrix.\n",
    "\n",
    "# Changing basis is like switching between different measuring scales or coordinate systems. For example, it can simplify problems, reveal how transformations work, or make calculations easier in a specific context.     "
   ]
  },
  {
   "cell_type": "code",
   "execution_count": null,
   "id": "5c4f0341",
   "metadata": {},
   "outputs": [],
   "source": [
    "# The Change of Basis Matrix\n",
    "# To convert coordinates from one basis (old) to another (new), we use a change of basis matrix. If you have:\n",
    "\n",
    "# basis_old = columns are old basis vectors,\n",
    "# basis_new = columns are new basis vectors,\n",
    "\n",
    "# To convert a vector v from old coordinates to new coordinates:\n",
    "# Stack the new basis vectors as columns to form a matrix \n",
    "# M\n",
    "\n",
    "# The coordinates of v in the new basis are computed by solving:\n",
    "\n",
    "# M.[v]new = v\n",
    "# where [v]new are the coordinates of v in the new basis.\n",
    "\n",
    "# or equivalently:\n",
    "# [v]new = M^(-1).v\n"
   ]
  },
  {
   "cell_type": "code",
   "execution_count": null,
   "id": "54949b92",
   "metadata": {},
   "outputs": [],
   "source": [
    "# Example usage\n",
    "\n",
    "# Standard basis: e1 = (1, 0), e2 = (0, 1). \n",
    "# New basis: b1 = (2, 1), b2 = (1, 1). \n",
    "# Vector in standard basis: v = (5, 3). \n",
    "# Goal: Find the coordinates of v in the new basis.\n",
    "\n",
    "# e1 + e2 = v\n",
    "\n",
    "# Let the new coordinates be (x, y).\n",
    "\n",
    "# Using the new basis:\n",
    "# x · b1 + y · b2 = v\n",
    "# x · (2, 1) + y · (1, 1) = (5, 3)\n",
    "\n",
    "# Formulate as a matrix equation:\n",
    "# Stack the new basis vectors as columns to build matrix A:\n",
    "# A = [[2, 1],\n",
    "#      [1, 1]]\n",
    "\n",
    "# Set v as the result vector:\n",
    "# b = [5, 3]\n",
    "\n",
    "# The unknowns x and y are the new coordinates.\n",
    "\n",
    "# Matrix notation:\n",
    "# A · [x  = b                   \n",
    "#      y] \n",
    "# (A.X = b) => X = A^(-1).b where X = [x, y]\n",
    "\n",
    "# Solving with NumPy:\n",
    "# np.linalg.solve(A, b) finds the exact values of x and y that satisfy the equation.\n"
   ]
  },
  {
   "cell_type": "code",
   "execution_count": 1,
   "id": "77bd21ed",
   "metadata": {},
   "outputs": [
    {
     "name": "stdout",
     "output_type": "stream",
     "text": [
      "Coordinates of v in the new basis: [2. 1.]\n"
     ]
    }
   ],
   "source": [
    "import numpy as np\n",
    "\n",
    "# Define the new basis vectors as columns of matrix A\n",
    "A = np.array([[2, 1],   \n",
    "              [1, 1]], dtype=float)\n",
    "\n",
    "# Define the vector v in the standard basis\n",
    "b = np.array([5, 3], dtype=float)\n",
    "\n",
    "# Solve for the coordinates in the new basis\n",
    "new_coords = np.linalg.solve(A, b)\n",
    "print(\"Coordinates of v in the new basis:\", new_coords)"
   ]
  },
  {
   "cell_type": "code",
   "execution_count": null,
   "id": "353c6a1d",
   "metadata": {},
   "outputs": [],
   "source": [
    "# The output [2. 1.] means:\n",
    "\n",
    "# To reach (5, 3) using the new basis:\n",
    "#   - Go 2 units along b1 (2, 1)\n",
    "#   - Go 1 unit along b2 (1, 1)\n",
    "\n",
    "# So, 2·b1 + 1·b2 = (5, 3) = v\n",
    "\n",
    "# Behind the scenes, solve works out these coefficients by quickly and accurately solving the pair of equations:\n",
    "# 2x + 1y = 5\n",
    "# 1x + 1y = 3"
   ]
  },
  {
   "cell_type": "code",
   "execution_count": null,
   "id": "d4ee4801",
   "metadata": {},
   "outputs": [],
   "source": [
    "# In the standard basis, the coordinates of a vector directly represent how much of e1 = (1, 0) and e2 = (0, 1) you use.\n",
    " \n",
    "# For example, the vector v = (5, 3) means:\n",
    "#   - 5 units along e1 (horizontal direction)\n",
    "#   - 3 units along e2 (vertical direction)\n",
    "\n",
    "# So in the standard basis, v is simply written as:\n",
    "# v = 5·e1 + 3·e2\n",
    "# Or, as a coordinate vector:\n",
    "# [5, 3]\n",
    "\n",
    "# This is the default representation in most programming languages and mathematics: the numbers 5 and 3 tell exactly how much to scale (1, 0) and (0, 1), respectively."
   ]
  },
  {
   "cell_type": "code",
   "execution_count": null,
   "id": "11ba7fc1",
   "metadata": {},
   "outputs": [],
   "source": [
    "# Sources:\n",
    "# [1](https://en.wikipedia.org/wiki/Change_of_basis)\n",
    "# [2](https://www.statlect.com/matrix-algebra/change-of-basis)\n",
    "# [3](https://www.youtube.com/watch?v=P2LTAUO1TdA)\n",
    "# [4](https://www.khanacademy.org/math/linear-algebra/alternate-bases/change-of-basis/v/linear-algebra-change-of-basis-matrix)\n",
    "# [5](https://www.reddit.com/r/askmath/comments/180wnvy/logic_behind_the_change_of_basis_matrix/)\n",
    "# [6](https://people.duke.edu/~ccc14/sta-663-2016/06_LinearAlgebra.html)\n",
    "# [7](https://sites.lsa.umich.edu/kesmith/wp-content/uploads/sites/1309/2024/06/CoordinateChange.pdf)\n",
    "# [8](https://stackoverflow.com/questions/55082928/change-of-basis-in-numpy)\n",
    "# [9](https://www.youtube.com/watch?v=KjlTOLhaI9s)\n",
    "# [10](https://people.duke.edu/~ccc14/sta-663/PCASolutions.html)\n",
    "# [11](https://www.youtube.com/watch?v=r6e90wZYjwA)\n",
    "# [12](https://hadrienj.github.io/posts/Essential-Math-for-Data-Science-Change-of-Basis/)\n",
    "# [13](https://www.askpython.com/python-modules/numpy/numpy-linalg-solve)"
   ]
  }
 ],
 "metadata": {
  "kernelspec": {
   "display_name": "myenvironment",
   "language": "python",
   "name": "python3"
  },
  "language_info": {
   "codemirror_mode": {
    "name": "ipython",
    "version": 3
   },
   "file_extension": ".py",
   "mimetype": "text/x-python",
   "name": "python",
   "nbconvert_exporter": "python",
   "pygments_lexer": "ipython3",
   "version": "3.13.5"
  }
 },
 "nbformat": 4,
 "nbformat_minor": 5
}
