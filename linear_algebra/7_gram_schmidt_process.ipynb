{
 "cells": [
  {
   "cell_type": "code",
   "execution_count": null,
   "id": "4e7290e3",
   "metadata": {},
   "outputs": [],
   "source": [
    "# Gram–Schmidt Process\n",
    "\n",
    "# The Gram–Schmidt process is a systematic way of turning any set of basis vectors into an orthogonal (right-angle) basis, and then into an orthonormal basis (right-angle, unit-length)—using basic Python tools.\n",
    "\n",
    "# What Is Gram–Schmidt?\n",
    "# Takes a set of linearly independent vectors (basis) and transforms them so:\n",
    "#   All vectors are at right angles (orthogonal) to each other.\n",
    "#   Then they're scaled so each has length 1 (orthonormal).\n",
    "\n",
    "# Orthogonal bases make calculations like projections, decompositions, and transformations much easier.\n"
   ]
  },
  {
   "cell_type": "code",
   "execution_count": null,
   "id": "cc7ade07",
   "metadata": {},
   "outputs": [
    {
     "name": "stdout",
     "output_type": "stream",
     "text": [
      "Orthonormal basis vectors:\n",
      "[0.57735027 0.57735027 0.57735027]\n",
      "[-0.81649658  0.40824829  0.40824829]\n",
      "[-2.35513869e-16  7.07106781e-01 -7.07106781e-01]\n"
     ]
    }
   ],
   "source": [
    "import numpy as np\n",
    "\n",
    "# Step-by-Step Gram–Schmidt Process\n",
    "\n",
    "# Suppose you have 3 basis vectors for ℝ³:\n",
    "# u1, u2, u3\n",
    "u1 = np.array([1, 1, 1])\n",
    "u2 = np.array([1, 2, 2])\n",
    "u3 = np.array([1, 1, 0])\n",
    "\n",
    "# We want to find an orthogonal basis (v1, v2, v3) and then normalize to get an orthonormal basis.\n",
    "\n",
    "# Step 1: First Vector\n",
    "# Keep the first vector as it is:\n",
    "v1 = u1\n",
    "\n",
    "# Step 2: Orthogonalize Second Vector\n",
    "# Remove the part of u2 that’s parallel to v1:\n",
    "# v2 = u2 − proj_v1(u2)\n",
    "\n",
    "# Where the projection formula is:\n",
    "# projection of u2 onto v1:\n",
    "# proj_v1(u2) = (u2 · v1 / ||v1||²) * v1\n",
    "proj_u2_v1 = np.dot(u2, v1) / np.dot(v1, v1) * v1\n",
    "v2 = u2 - proj_u2_v1\n",
    "\n",
    "# Orthogonalize Third Vector\n",
    "# Remove the part of u3 that’s parallel to both v1 and v2:\n",
    "# v3 = u3 − proj_v1(u3) − proj_v2(u3)\n",
    "proj_u3_v1 = np.dot(u3, v1) / np.dot(v1, v1) * v1\n",
    "proj_u3_v2 = np.dot(u3, v2) / np.dot(v2, v2) * v2\n",
    "v3 = u3 - proj_u3_v1 - proj_u3_v2\n",
    "\n",
    "# Normalize\n",
    "# Scale each orthogonal vector to have length 1:\n",
    "# ei = vi / ||vi||\n",
    "# Normalize each\n",
    "e1 = v1 / np.linalg.norm(v1)\n",
    "e2 = v2 / np.linalg.norm(v2)\n",
    "e3 = v3 / np.linalg.norm(v3)\n",
    "\n",
    "print(\"Orthonormal basis vectors:\")\n",
    "print(e1)\n",
    "print(e2)\n",
    "print(e3)\n",
    "\n",
    "# This gives you 3 orthonormal vectors spanning the same space as the original ones.\n",
    "\n",
    "# Key Points\n",
    "# The first column stays the same; each next column is adjusted to be orthogonal to all previous ones.\n",
    "# If you skip normalization, columns are orthogonal, but not unit length. Normalize for orthonormality.\n",
    "# Python’s np.dot() computes dot products, and np.linalg.norm() computes lengths."
   ]
  },
  {
   "cell_type": "code",
   "execution_count": null,
   "id": "e2ee15fe",
   "metadata": {},
   "outputs": [],
   "source": [
    "# Sources:\n",
    "    \n",
    "# [1](https://www.youtube.com/watch?v=zHbfZWZJTGc)\n",
    "# [2](https://math.hmc.edu/calculus/hmc-mathematics-calculus-online-tutorials/linear-algebra/gram-schmidt-method/)\n",
    "# [3](https://www.khanacademy.org/math/linear-algebra/alternate-bases/orthonormal-basis/v/linear-algebra-the-gram-schmidt-process)\n",
    "# [4](https://calcworkshop.com/orthogonality/the-gram-schmidt-process-and-qr-factorization/)\n",
    "# [5](https://www.statlect.com/matrix-algebra/Gram-Schmidt-process)\n",
    "# [6](https://math.libretexts.org/Bookshelves/Linear_Algebra/Book:_Linear_Algebra_(Schilling_Nachtergaele_and_Lankham)/09:_Inner_product_spaces/9.05:_The_Gram-Schmidt_Orthogonalization_procedure)\n",
    "# [7](https://ocw.mit.edu/courses/18-06sc-linear-algebra-fall-2011/7ac32be444c25e48590f47573833ccc6_MIT18_06SCF11_Ses2.4sum.pdf)\n",
    "# [8](https://www.youtube.com/watch?v=enWNFOfudYw)\n",
    "# [9](https://www.youtube.com/watch?v=zti01DiImiQ)\n",
    "# [10](https://www.khanacademy.org/math/linear-algebra/alternate-bases/orthonormal-basis/v/linear-algebra-gram-schmidt-process-example)"
   ]
  }
 ],
 "metadata": {
  "kernelspec": {
   "display_name": "myenvironment",
   "language": "python",
   "name": "python3"
  },
  "language_info": {
   "codemirror_mode": {
    "name": "ipython",
    "version": 3
   },
   "file_extension": ".py",
   "mimetype": "text/x-python",
   "name": "python",
   "nbconvert_exporter": "python",
   "pygments_lexer": "ipython3",
   "version": "3.13.5"
  }
 },
 "nbformat": 4,
 "nbformat_minor": 5
}
