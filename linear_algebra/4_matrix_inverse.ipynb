{
 "cells": [
  {
   "cell_type": "markdown",
   "id": "9f11783e",
   "metadata": {},
   "source": [
    "# Matrix Inverse\n",
    "\n",
    "## 1. What is a Matrix Inverse?\n",
    "- A matrix can be thought of as a function that transforms a vector.\n",
    "- Example: **A · X = B**, where **A** is the transformation.\n",
    "- To “undo” the transformation and recover **X** from **B**, use the inverse **A⁻¹**:\n",
    "  - **X = A⁻¹ · B**\n",
    "- Multiplying by the inverse is like dividing by a number, but for matrices.\n",
    "- Only **square matrices (n×n)** can have inverses.\n",
    "- **Non-singular matrices (determinant ≠ 0)** have inverses.\n",
    "- **Singular matrices (determinant = 0)** do not have inverses.\n",
    "\n",
    "---\n",
    "\n",
    "## 2. Properties of Inverse Matrices\n",
    "For any invertible matrix **A** and the identity matrix **I**:\n",
    "- **A · A⁻¹ = I**\n",
    "- **A⁻¹ · A = I**\n",
    "- **(A⁻¹)⁻¹ = A**\n",
    "- **(AB)⁻¹ = B⁻¹ A⁻¹**\n",
    "- **(Aᵀ)⁻¹ = (A⁻¹)ᵀ**\n",
    "- The identity matrix **I** acts like **1** in arithmetic.\n",
    "\n",
    "---\n",
    "\n",
    "## 3. How to Compute the Inverse Using Gaussian Elimination\n",
    "\n",
    "### Example Matrix\n",
    "A =  \n",
    "[  2   1  -1 ]  \n",
    "[ -3  -1   2 ]  \n",
    "[ -2   1   2 ]  \n",
    "\n",
    "### Step 1: Form the Augmented Matrix\n",
    "Augment **A** with the identity matrix **I**:\n",
    "\n",
    "[ A | I ] =  \n",
    "[  2   1  -1 | 1 0 0 ]  \n",
    "[ -3  -1   2 | 0 1 0 ]  \n",
    "[ -2   1   2 | 0 0 1 ]  \n",
    "\n",
    "- Left side: matrix **A**  \n",
    "- Right side: identity matrix **I**  \n",
    "- Goal: Transform the left side into **I** using Gaussian elimination.\n",
    "\n",
    "### Step 2: Apply Gaussian Elimination\n",
    "- **Forward elimination:** eliminate below-diagonal entries.  \n",
    "- **Backward elimination:** eliminate above-diagonal entries.  \n",
    "- **Scale rows** so diagonal entries = 1.  \n",
    "\n",
    "At the end:\n",
    "\n",
    "[ I | A⁻¹ ]  \n",
    "\n",
    "- The right side becomes the inverse matrix **A⁻¹**.  \n",
    "- Each column of **A⁻¹** corresponds to the solution of **AX = eᵢ**, where **eᵢ** is the ith column of **I**.\n",
    "\n",
    "### Step 3: Solve Linear Systems Using Inverse\n",
    "Once you have **A⁻¹**:  \n",
    "**X = A⁻¹ · B**\n",
    "\n",
    "- This solution is equivalent to solving **AX = B** directly using Gaussian elimination.  \n",
    "- However, explicitly computing the inverse is usually \n"
   ]
  },
  {
   "cell_type": "code",
   "execution_count": 6,
   "id": "d8742247",
   "metadata": {},
   "outputs": [
    {
     "name": "stdout",
     "output_type": "stream",
     "text": [
      "Original Matrix A:\n",
      " [[ 2.  1. -1.]\n",
      " [-3. -1.  2.]\n",
      " [-2.  1.  2.]]\n",
      "Inverse of Matrix A:\n",
      " [[ 4.  3. -1.]\n",
      " [-2. -2.  1.]\n",
      " [ 5.  4. -1.]]\n"
     ]
    }
   ],
   "source": [
    "import numpy as np\n",
    "\n",
    "A = np.array([[2, 1, -1],\n",
    "              [-3, -1, 2],\n",
    "              [-2, 1, 2]], dtype=float)\n",
    "A_inv = np.linalg.inv(A)\n",
    "print(\"Original Matrix A:\\n\", A)\n",
    "print(\"Inverse of Matrix A:\\n\", A_inv)\n",
    "\n",
    "# The inverse of a matrix A is denoted as A^(-1) and satisfies the equation A * A^(-1) = I, where I is the identity matrix.\n",
    "\n",
    "# The inverse of a matrix is a fundamental concept in linear algebra with applications in various fields, including machine learning, computer graphics, and physics.\n",
    "# It is used to solve systems of linear equations, perform transformations, and analyze data.\n",
    "# In this guide, we will explore the concept of the inverse of a matrix, how to compute it, and its applications.\n",
    "# We will also discuss the conditions under which a matrix has an inverse and how to handle cases where the inverse does not exist.\n"
   ]
  },
  {
   "cell_type": "code",
   "execution_count": 7,
   "id": "33effaf5",
   "metadata": {},
   "outputs": [
    {
     "name": "stdout",
     "output_type": "stream",
     "text": [
      "Product of A and A_inv (should be identity matrix):\n",
      " [[ 1.00000000e+00  8.88178420e-16  0.00000000e+00]\n",
      " [ 1.77635684e-15  1.00000000e+00 -4.44089210e-16]\n",
      " [ 0.00000000e+00  0.00000000e+00  1.00000000e+00]]\n"
     ]
    }
   ],
   "source": [
    "I = np.dot(A, A_inv)\n",
    "print(\"Product of A and A_inv (should be identity matrix):\\n\", I)   \\\n",
    "# Verify that A * A_inv = I\n",
    "# Note: Not all matrices have an inverse. A matrix must be square (same number of rows and columns) and have a non-zero determinant to have an inverse."
   ]
  },
  {
   "cell_type": "code",
   "execution_count": 8,
   "id": "e7dd314f",
   "metadata": {},
   "outputs": [
    {
     "name": "stdout",
     "output_type": "stream",
     "text": [
      "Determinant of A: -0.9999999999999996\n",
      "Matrix A has an inverse.\n"
     ]
    }
   ],
   "source": [
    "# Determinant of A\n",
    "# Formula:  det(A) = ad - bc for a 2x2 matrix [[a, b], [c, d]]\n",
    "# For larger matrices, the determinant can be computed using various methods, including row reduction or cofactor expansion.\n",
    "# For a 3x3 matrix, the determinant can be calculated as follows:\n",
    "# det(A) = a(ei - fh) - b(di - fg) + c(dh - eg)\n",
    "# where the matrix is:\n",
    "# [[a, b, c],\n",
    "#  [d, e, f],\n",
    "#  [g, h, i]]\n",
    "\n",
    "det_A = np.linalg.det(A)\n",
    "print(\"Determinant of A:\", det_A)\n",
    "if det_A != 0:\n",
    "    print(\"Matrix A has an inverse.\")\n",
    "else:\n",
    "    print(\"Matrix A does not have an inverse.\")"
   ]
  },
  {
   "cell_type": "code",
   "execution_count": null,
   "id": "31a2ec24",
   "metadata": {},
   "outputs": [],
   "source": [
    "# Solve Ax = b using the inverse of A\n",
    "# Concept: If A is invertible, the solution to the equation Ax = b can be found using,\n",
    "# x = A^(-1)b.\n",
    "# This method is particularly useful in various applications, including machine learning algorithms like linear regression.\n",
    "b = np.array([8, -11, -3], dtype=float)\n",
    "x = np.dot(A_inv, b)\n",
    "print(\"Solution using A_inv * b:\", x)"
   ]
  }
 ],
 "metadata": {
  "kernelspec": {
   "display_name": "myenvironment",
   "language": "python",
   "name": "python3"
  },
  "language_info": {
   "codemirror_mode": {
    "name": "ipython",
    "version": 3
   },
   "file_extension": ".py",
   "mimetype": "text/x-python",
   "name": "python",
   "nbconvert_exporter": "python",
   "pygments_lexer": "ipython3",
   "version": "3.13.5"
  }
 },
 "nbformat": 4,
 "nbformat_minor": 5
}
