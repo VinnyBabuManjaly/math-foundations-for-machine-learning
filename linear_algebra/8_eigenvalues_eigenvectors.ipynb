{
 "cells": [
  {
   "cell_type": "code",
   "execution_count": 4,
   "id": "9b41eeef",
   "metadata": {},
   "outputs": [],
   "source": [
    "# Eigenvalues and Eigenvectors\n",
    "\n",
    "# Eigenvalues and eigenvectors are key concepts in linear algebra for understanding \n",
    "# transformations represented by square matrices. \n",
    "# They reveal a matrix’s most fundamental “directions” and how those directions get \n",
    "# stretched or compressed.\n",
    "\n",
    "# What Are They?\n",
    "# Eigenvector: A vector whose direction remains unchanged when a square matrix \n",
    "#               transforms it. It may get stretched, shrunk, or flipped (if the \n",
    "#               stretch is negative).\n",
    "# Eigenvalue: The factor (amount) by which the eigenvector is stretched or shrunk \n",
    "#               under the transformation.\n",
    "\n",
    "# Mathematical Definition:\n",
    "# For a matrix A and a nonzero vector v:\n",
    "#   A v = λ v\n",
    "\n",
    "# Where:\n",
    "#   - v is an eigenvector of A\n",
    "#   - λ is the corresponding eigenvalue\n",
    "\n",
    "# This means multiplying matrix A by vector v results in a vector pointing in the \n",
    "# same direction as v, but scaled by λ."
   ]
  },
  {
   "cell_type": "code",
   "execution_count": 5,
   "id": "a0b5673e",
   "metadata": {},
   "outputs": [],
   "source": [
    "# Not all vectors behave this way—most get rotated, sheared, or bent. Eigenvectors \n",
    "# are “special” directions for the matrix where only stretching/compressing happens.\n",
    "\n",
    "# Matrices in real-world applications can have thousands of entries—but their \n",
    "# eigenvectors reveal their simplest actions.\n",
    "\n",
    "# In machine learning, eigenvectors help reduce data complexity (for example, in PCA), \n",
    "# analyze correlations, and power recommendation engines.\n"
   ]
  },
  {
   "cell_type": "code",
   "execution_count": 6,
   "id": "91a02c2d",
   "metadata": {},
   "outputs": [],
   "source": [
    "# Steps to Find Eigenvalues and Eigenvectors\n",
    "\n",
    "# Step 1: Start with the eigenvalue equation: A v = λ v\n",
    "\n",
    "# Step 2: Rewrite it as: (A − λI) v = 0\n",
    "\n",
    "# Step 3: Find λ (eigenvalues)by solving the characteristic equation:\n",
    "# det(A − λI) = 0\n",
    "\n",
    "# Step 4: Find v (eigenvectors):\n",
    "# For each eigenvalue λ, solve: (A − λI) v = 0\n",
    "# to get the associated eigenvector(s)."
   ]
  },
  {
   "cell_type": "code",
   "execution_count": 7,
   "id": "cbedf6de",
   "metadata": {},
   "outputs": [
    {
     "name": "stdout",
     "output_type": "stream",
     "text": [
      "Eigenvalues: [5. 2.]\n",
      "Eigenvectors: [[ 0.89442719 -0.70710678]\n",
      " [ 0.4472136   0.70710678]]\n",
      "Check: True\n",
      "Check: True\n"
     ]
    }
   ],
   "source": [
    "import numpy as np\n",
    "\n",
    "A = np.array([[4, 2], [1, 3]])\n",
    "eigvalues, eigvectors = np.linalg.eig(A)\n",
    "\n",
    "print(\"Eigenvalues:\", eigvalues)      \n",
    "print(\"Eigenvectors:\", eigvectors)     # columns are eigenvectors\n",
    "\n",
    "# Verify Av = λv for each eigenpair\n",
    "for i in range(len(eigvalues)):\n",
    "    v = eigvectors[:, i]\n",
    "    λ = eigvalues[i]\n",
    "    print(\"Check:\", np.allclose(np.dot(A, v), λ * v))  # Should be True"
   ]
  },
  {
   "cell_type": "code",
   "execution_count": 8,
   "id": "e51559df",
   "metadata": {},
   "outputs": [],
   "source": [
    "# For each eigenpair, multiplying the matrix by the eigenvector gives the same as \n",
    "# multiplying the vector by its eigenvalue.\n",
    "#       Direction stays the same\n",
    "#       Only the length changes by the eigenvalue\n",
    "\n",
    "# This validates the definition of eigenvalues/eigenvectors."
   ]
  },
  {
   "cell_type": "code",
   "execution_count": null,
   "id": "75031d27",
   "metadata": {},
   "outputs": [],
   "source": [
    "# Sources:\n",
    "# [1](https://www.reddit.com/r/learnmath/comments/ac0w37/linear_algebra_what_exactly_are_eigenvalues_and/)\n",
    "# [2](https://textbooks.math.gatech.edu/ila/eigenvectors.html)\n",
    "# [3](https://en.wikipedia.org/wiki/Eigenvalues_and_eigenvectors)\n",
    "# [4](https://math.libretexts.org/Bookshelves/Linear_Algebra/A_First_Course_in_Linear_Algebra_(Kuttler)/07:_Spectral_Theory/7.01:_Eigenvalues_and_Eigenvectors_of_a_Matrix)\n",
    "# [5](https://www.geeksforgeeks.org/engineering-mathematics/eigen-values/)\n",
    "# [6](https://math.mit.edu/~gs/linearalgebra/ila5/linearalgebra5_6-1.pdf)\n",
    "# [7](https://www.youtube.com/watch?v=PFDu9oVAE-g)\n",
    "# [8](https://www.math.uh.edu/~jiwenhe/math2331/lectures/sec5_1.pdf)\n",
    "# [9](https://www.khanacademy.org/math/linear-algebra/alternate-bases/eigen-everything/v/linear-algebra-introduction-to-eigenvalues-and-eigenvectors)"
   ]
  }
 ],
 "metadata": {
  "kernelspec": {
   "display_name": "base",
   "language": "python",
   "name": "python3"
  },
  "language_info": {
   "codemirror_mode": {
    "name": "ipython",
    "version": 3
   },
   "file_extension": ".py",
   "mimetype": "text/x-python",
   "name": "python",
   "nbconvert_exporter": "python",
   "pygments_lexer": "ipython3",
   "version": "3.13.5"
  }
 },
 "nbformat": 4,
 "nbformat_minor": 5
}
