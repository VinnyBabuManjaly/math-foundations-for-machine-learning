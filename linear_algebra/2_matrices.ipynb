{
 "cells": [
  {
   "cell_type": "code",
   "execution_count": 7,
   "id": "3b52507e",
   "metadata": {},
   "outputs": [
    {
     "name": "stdout",
     "output_type": "stream",
     "text": [
      "Matrix A:\n",
      " [[1 2]\n",
      " [3 4]]\n",
      "Matrix B:\n",
      " [[5 6]\n",
      " [7 8]]\n",
      "A * B:\n",
      " [[19 22]\n",
      " [43 50]]\n"
     ]
    }
   ],
   "source": [
    "import numpy as np\n",
    "\n",
    "# Define two matrices\n",
    "A = np.array([\n",
    "    [1, 2],\n",
    "    [3, 4]\n",
    "])\n",
    "B = np.array([\n",
    "    [5, 6],\n",
    "    [7, 8]\n",
    "])\n",
    "\n",
    "# Matrix multiplication (dot product)\n",
    "C = np.dot(A, B)\n",
    "print(\"Matrix A:\\n\", A)\n",
    "print(\"Matrix B:\\n\", B)\n",
    "print(\"A * B:\\n\", C)"
   ]
  },
  {
   "cell_type": "code",
   "execution_count": null,
   "id": "2b503871",
   "metadata": {},
   "outputs": [
    {
     "name": "stdout",
     "output_type": "stream",
     "text": [
      "Original matrix:\n",
      " [[1 2 3]\n",
      " [4 5 6]\n",
      " [7 8 9]]\n",
      "Mirrored matrix:\n",
      " [[3 2 1]\n",
      " [6 5 4]\n",
      " [9 8 7]]\n"
     ]
    }
   ],
   "source": [
    "import numpy as np\n",
    "\n",
    "# Create a sample matrix\n",
    "A = np.array([\n",
    "    [1, 2, 3],\n",
    "    [4, 5, 6],\n",
    "    [7, 8, 9]\n",
    "])\n",
    "\n",
    "# Mirror the matrix horizontally (flip left-right)\n",
    "A_mirrored = np.fliplr(A)\n",
    "\n",
    "print(\"Original matrix:\\n\", A)\n",
    "print(\"Mirrored matrix:\\n\", A_mirrored)"
   ]
  },
  {
   "cell_type": "code",
   "execution_count": 3,
   "id": "b9759d70",
   "metadata": {},
   "outputs": [
    {
     "name": "stdout",
     "output_type": "stream",
     "text": [
      "Original matrix S:\n",
      " [[1 2 3]\n",
      " [2 5 6]\n",
      " [3 6 9]]\n",
      "Transpose of S:\n",
      " [[1 2 3]\n",
      " [2 5 6]\n",
      " [3 6 9]]\n",
      "Is symmetric?  True\n"
     ]
    }
   ],
   "source": [
    "S = np.array([\n",
    "    [1, 2, 3],\n",
    "    [2, 5, 6],\n",
    "    [3, 6, 9]\n",
    "])\n",
    "print(\"Original matrix S:\\n\", S)\n",
    "print(\"Transpose of S:\\n\", S.T)\n",
    "print(\"Is symmetric? \", np.array_equal(S, S.T))  # True"
   ]
  },
  {
   "cell_type": "code",
   "execution_count": 4,
   "id": "4dfb70cb",
   "metadata": {},
   "outputs": [
    {
     "name": "stdout",
     "output_type": "stream",
     "text": [
      "Identity matrix:\n",
      " [[1. 0. 0.]\n",
      " [0. 1. 0.]\n",
      " [0. 0. 1.]]\n"
     ]
    }
   ],
   "source": [
    "# Create an identity matrix (3x3)\n",
    "I = np.eye(3)\n",
    "print(\"Identity matrix:\\n\", I)"
   ]
  },
  {
   "cell_type": "code",
   "execution_count": 6,
   "id": "a6bc87ec",
   "metadata": {},
   "outputs": [
    {
     "name": "stdout",
     "output_type": "stream",
     "text": [
      "Matrix B:\n",
      " [[2 0 1]\n",
      " [1 3 4]\n",
      " [0 5 6]]\n",
      "Identity matrix:\n",
      " [[1. 0. 0.]\n",
      " [0. 1. 0.]\n",
      " [0. 0. 1.]]\n",
      "I * B:\n",
      " [[2. 0. 1.]\n",
      " [1. 3. 4.]\n",
      " [0. 5. 6.]]\n",
      "Is I * B same as B? True\n"
     ]
    }
   ],
   "source": [
    "# Create an identity matrix (3x3)\n",
    "I = np.eye(3)\n",
    "\n",
    "# Create another matrix\n",
    "B = np.array([\n",
    "    [2, 0, 1],\n",
    "    [1, 3, 4],\n",
    "    [0, 5, 6]\n",
    "])\n",
    "\n",
    "# Multiply identity matrix by B\n",
    "result = np.dot(I, B)\n",
    "\n",
    "print(\"Matrix B:\\n\", B)\n",
    "print(\"Identity matrix:\\n\", I)\n",
    "print(\"I * B:\\n\", result)\n",
    "print(\"Is I * B same as B?\", np.array_equal(result, B))  #"
   ]
  }
 ],
 "metadata": {
  "kernelspec": {
   "display_name": "myenvironment",
   "language": "python",
   "name": "python3"
  },
  "language_info": {
   "codemirror_mode": {
    "name": "ipython",
    "version": 3
   },
   "file_extension": ".py",
   "mimetype": "text/x-python",
   "name": "python",
   "nbconvert_exporter": "python",
   "pygments_lexer": "ipython3",
   "version": "3.13.5"
  }
 },
 "nbformat": 4,
 "nbformat_minor": 5
}
