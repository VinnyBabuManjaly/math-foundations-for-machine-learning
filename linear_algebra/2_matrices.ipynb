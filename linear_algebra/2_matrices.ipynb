{
 "cells": [
  {
   "cell_type": "code",
   "execution_count": null,
   "id": "bec8e1d3",
   "metadata": {},
   "outputs": [],
   "source": [
    "# A matrix in Python is a two-dimensional array (or list of lists) \n",
    "# used to organize numbers in rows and columns. \n",
    "\n",
    "# Matrices are rectangular arrays of numbers, symbols, or expressions, \n",
    "# arranged in rows and columns. They are used in various fields such as\n",
    "# mathematics, physics, computer science, and engineering to represent\n",
    "# and manipulate data, perform linear transformations, and solve systems\n",
    "# of linear equations."
   ]
  },
  {
   "cell_type": "code",
   "execution_count": 13,
   "id": "3b52507e",
   "metadata": {},
   "outputs": [
    {
     "name": "stdout",
     "output_type": "stream",
     "text": [
      "Matrix A:\n",
      " [[1 2]\n",
      " [3 4]]\n",
      "Matrix B:\n",
      " [[5 6]\n",
      " [7 8]]\n",
      "A + B:\n",
      " [[ 6  8]\n",
      " [10 12]]\n",
      "A - B:\n",
      " [[-4 -4]\n",
      " [-4 -4]]\n"
     ]
    }
   ],
   "source": [
    "# Matrix Addition and Subtraction\n",
    "# Matrices of the same size can be added or subtracted by adding/subtracting \n",
    "# their corresponding elements.\n",
    "\n",
    "import numpy as np\n",
    "\n",
    "# Define two matrices\n",
    "A = np.array([\n",
    "    [1, 2],\n",
    "    [3, 4]\n",
    "])\n",
    "B = np.array([\n",
    "    [5, 6],\n",
    "    [7, 8]\n",
    "])\n",
    "\n",
    "addition = A + B    # Result: [[5, 7], [9, 11]]\n",
    "subtraction = A - B # Result: [[-3, -3], [-3, -3]]\n",
    "\n",
    "print(\"Matrix A:\\n\", A)\n",
    "print(\"Matrix B:\\n\", B)\n",
    "print(\"A + B:\\n\", addition)\n",
    "print(\"A - B:\\n\", subtraction)\n"
   ]
  },
  {
   "cell_type": "code",
   "execution_count": 14,
   "id": "f8a8e3f9",
   "metadata": {},
   "outputs": [
    {
     "name": "stdout",
     "output_type": "stream",
     "text": [
      "Matrix A:\n",
      " [[1 2]\n",
      " [3 4]]\n",
      "Matrix B:\n",
      " [[5 6]\n",
      " [7 8]]\n",
      "A * B:\n",
      " [[19 22]\n",
      " [43 50]]\n"
     ]
    }
   ],
   "source": [
    "# Matrix multiplication (dot product)\n",
    "# The dot product of two matrices is calculated by multiplying rows of the first matrix\n",
    "# by columns of the second matrix and summing the results.\n",
    "# Number of columns in first matrix must equal number of rows in second matrix\n",
    "\n",
    "C = np.dot(A, B)\n",
    "print(\"Matrix A:\\n\", A)\n",
    "print(\"Matrix B:\\n\", B)\n",
    "print(\"A * B:\\n\", C)"
   ]
  },
  {
   "cell_type": "code",
   "execution_count": 4,
   "id": "a4f14a4c",
   "metadata": {},
   "outputs": [
    {
     "name": "stdout",
     "output_type": "stream",
     "text": [
      "Matrix A:\n",
      " [[1 2]\n",
      " [3 4]]\n",
      "Scalar Multiplication (3 * A):\n",
      " [[ 3  6]\n",
      " [ 9 12]]\n",
      "Scalar Division (A / 2):\n",
      " [[0.5 1. ]\n",
      " [1.5 2. ]]\n"
     ]
    }
   ],
   "source": [
    "# Matrix Scalar Operations\n",
    "# Multiply (or divide) every element of a matrix by a number (scalar)\n",
    "\n",
    "A = np.array([[1, 2], [3, 4]])\n",
    "scalar_mult = 3 * A    \n",
    "scalar_div = A / 2\n",
    "\n",
    "print(\"Matrix A:\\n\", A)\n",
    "print(\"Scalar Multiplication (3 * A):\\n\", scalar_mult)\n",
    "print(\"Scalar Division (A / 2):\\n\", scalar_div)"
   ]
  },
  {
   "cell_type": "code",
   "execution_count": 5,
   "id": "2b503871",
   "metadata": {},
   "outputs": [
    {
     "name": "stdout",
     "output_type": "stream",
     "text": [
      "Original matrix:\n",
      " [[1 2 3]\n",
      " [4 5 6]\n",
      " [7 8 9]]\n",
      "Mirrored matrix:\n",
      " [[3 2 1]\n",
      " [6 5 4]\n",
      " [9 8 7]]\n"
     ]
    }
   ],
   "source": [
    "# Mirroring a Matrix\n",
    "\n",
    "# Create a sample matrix\n",
    "A = np.array([\n",
    "    [1, 2, 3],\n",
    "    [4, 5, 6],\n",
    "    [7, 8, 9]\n",
    "])\n",
    "\n",
    "# Mirror the matrix horizontally (flip left-right)\n",
    "A_mirrored = np.fliplr(A)\n",
    "\n",
    "print(\"Original matrix:\\n\", A)\n",
    "print(\"Mirrored matrix:\\n\", A_mirrored)"
   ]
  },
  {
   "cell_type": "code",
   "execution_count": 6,
   "id": "b9759d70",
   "metadata": {},
   "outputs": [
    {
     "name": "stdout",
     "output_type": "stream",
     "text": [
      "Original matrix S:\n",
      " [[1 2 3]\n",
      " [2 5 6]\n",
      " [3 6 9]]\n",
      "Transpose of S:\n",
      " [[1 2 3]\n",
      " [2 5 6]\n",
      " [3 6 9]]\n",
      "Is symmetric?  True\n"
     ]
    }
   ],
   "source": [
    "# Transposing a Matrix\n",
    "# Transposing a matrix involves swapping its rows with its columns.\n",
    "\n",
    "S = np.array([\n",
    "    [1, 2, 3],\n",
    "    [2, 5, 6],\n",
    "    [3, 6, 9]\n",
    "])\n",
    "print(\"Original matrix S:\\n\", S)\n",
    "print(\"Transpose of S:\\n\", S.T)\n",
    "print(\"Is symmetric? \", np.array_equal(S, S.T))  # True"
   ]
  },
  {
   "cell_type": "code",
   "execution_count": 7,
   "id": "4dfb70cb",
   "metadata": {},
   "outputs": [
    {
     "name": "stdout",
     "output_type": "stream",
     "text": [
      "Identity matrix:\n",
      " [[1. 0. 0.]\n",
      " [0. 1. 0.]\n",
      " [0. 0. 1.]]\n"
     ]
    }
   ],
   "source": [
    "# Identity Matrix\n",
    "# An identity matrix is a square matrix with ones on the main diagonal\n",
    "# and zeros elsewhere. It acts as the multiplicative identity in matrix multiplication.\n",
    "\n",
    "# Create an identity matrix (3x3)\n",
    "I = np.eye(3)\n",
    "print(\"Identity matrix:\\n\", I)"
   ]
  },
  {
   "cell_type": "code",
   "execution_count": null,
   "id": "a6bc87ec",
   "metadata": {},
   "outputs": [
    {
     "name": "stdout",
     "output_type": "stream",
     "text": [
      "Matrix B:\n",
      " [[2 0 1]\n",
      " [1 3 4]\n",
      " [0 5 6]]\n",
      "Identity matrix:\n",
      " [[1. 0. 0.]\n",
      " [0. 1. 0.]\n",
      " [0. 0. 1.]]\n",
      "I * B:\n",
      " [[2. 0. 1.]\n",
      " [1. 3. 4.]\n",
      " [0. 5. 6.]]\n",
      "Is I * B same as B? True\n"
     ]
    }
   ],
   "source": [
    "# Multiplying any matrix by the identity matrix returns the original matrix\n",
    "\n",
    "I = np.eye(3)\n",
    "\n",
    "# Create another matrix\n",
    "B = np.array([\n",
    "    [2, 0, 1],\n",
    "    [1, 3, 4],\n",
    "    [0, 5, 6]\n",
    "])\n",
    "\n",
    "# Multiply identity matrix by B\n",
    "result = np.dot(I, B)\n",
    "\n",
    "print(\"Matrix B:\\n\", B)\n",
    "print(\"Identity matrix:\\n\", I)\n",
    "print(\"I * B:\\n\", result)\n",
    "print(\"Is I * B same as B?\", np.array_equal(result, B))  #"
   ]
  },
  {
   "cell_type": "code",
   "execution_count": 8,
   "id": "1aea7e6d",
   "metadata": {},
   "outputs": [
    {
     "name": "stdout",
     "output_type": "stream",
     "text": [
      "Zero Matrix:\n",
      " [[0. 0.]\n",
      " [0. 0.]]\n"
     ]
    }
   ],
   "source": [
    "#  Other types of matrices include:\n",
    "#  - Zero Matrix: All elements are zero.\n",
    "#  - Diagonal Matrix: Only diagonal elements are non-zero.\n",
    "#  - Symmetric Matrix: Equal to its transpose.\n",
    "#  - Square Matrix: Same number of rows and columns.\n",
    "\n",
    "#  Zero Matrix\n",
    "zero = np.zeros((2, 2))\n",
    "print(\"Zero Matrix:\\n\", zero)"
   ]
  },
  {
   "cell_type": "code",
   "execution_count": 11,
   "id": "7fa93191",
   "metadata": {},
   "outputs": [],
   "source": [
    "# Matrix Properties\n",
    "\n",
    "# Associative:\n",
    "# (A×B)×C = A×(B×C)\n",
    "\n",
    "# Distributive:\n",
    "# A×(B+C) = (A×B) + (A×C)\n",
    "\n",
    "# Non-Commutative:\n",
    "# A×B ≠ B×A in general"
   ]
  },
  {
   "cell_type": "code",
   "execution_count": null,
   "id": "48aea10b",
   "metadata": {},
   "outputs": [],
   "source": [
    "# Sources:\n",
    "\n",
    "# [1](https://www.programiz.com/python-programming/matrix)\n",
    "# [2](https://rootstack.com/en/blog/matrix-python-basic-operations)\n",
    "# [3](https://www.geeksforgeeks.org/python/python-matrix/)\n",
    "# [4](https://www.tutorialspoint.com/python_data_structure/python_matrix.htm)\n",
    "# [5](http://rlhick.people.wm.edu/stories/linear-algebra-python-basics.html)\n",
    "# [6](https://www.geeksforgeeks.org/python/adding-and-subtracting-matrices-in-python/)\n",
    "# [7](https://www.digitalocean.com/community/tutorials/numpy-matrix-multiplication)\n",
    "# [8](https://python-course.eu/numerical-programming/matrix-arithmetics-under-numpy-and-python.php)\n",
    "# [9](https://www.statology.org/how-to-perform-matrix-addition-and-subtraction-in-python/)\n",
    "# [10](https://www.geeksforgeeks.org/numpy/multiplication-two-matrices-single-line-using-numpy-python/)\n",
    "# [11](https://t-redactyl.github.io/blog/2020/06/working-with-matrices-addition-subtraction-and-multiplication.html)"
   ]
  }
 ],
 "metadata": {
  "kernelspec": {
   "display_name": "base",
   "language": "python",
   "name": "python3"
  },
  "language_info": {
   "codemirror_mode": {
    "name": "ipython",
    "version": 3
   },
   "file_extension": ".py",
   "mimetype": "text/x-python",
   "name": "python",
   "nbconvert_exporter": "python",
   "pygments_lexer": "ipython3",
   "version": "3.13.5"
  }
 },
 "nbformat": 4,
 "nbformat_minor": 5
}
