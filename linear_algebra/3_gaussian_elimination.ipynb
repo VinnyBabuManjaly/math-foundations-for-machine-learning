{
 "cells": [
  {
   "cell_type": "markdown",
   "id": "2e98ffa9",
   "metadata": {},
   "source": [
    "# Gaussian Elimination\n",
    "\n",
    "**Gaussian Elimination (GE)** is a method for solving systems of linear equations.  \n",
    "\n",
    "It systematically reduces a system involving variables (e.g., *x, y, z*) into a form that’s easier to solve.\n",
    "\n",
    "---\n",
    "\n",
    "## Use Cases\n",
    "- Solving linear systems of equations.  \n",
    "- Finding the **rank** of a matrix.  \n",
    "- Finding the **inverse** of a matrix (with modifications).  \n",
    "\n",
    "It’s essentially a **workhorse technique** in linear algebra.\n",
    "\n",
    "---\n",
    "\n",
    "## Step-by-Step\n",
    "\n",
    "We first convert the system into matrix form:\n",
    "\n",
    "A . X = B\n",
    "\n",
    "Then, we build an **augmented matrix**.\n",
    "\n",
    "Gaussian Elimination has **two main stages**:\n",
    "\n",
    "1. **Forward Elimination** – make the matrix upper triangular (all zeros below the diagonal).  \n",
    "2. **Back Substitution** – solve variables starting from the bottom equation up.\n",
    "\n",
    "---\n",
    "\n",
    "## Rules of Row Operations\n",
    "\n",
    "We can perform the following operations (all preserve the solution set):\n",
    "\n",
    "1. **Swap** two rows.  \n",
    "2. **Multiply** a row by a nonzero constant.  \n",
    "3. **Add** a multiple of one row to another row.  \n"
   ]
  },
  {
   "cell_type": "code",
   "execution_count": 3,
   "id": "4614ac25",
   "metadata": {},
   "outputs": [
    {
     "name": "stdout",
     "output_type": "stream",
     "text": [
      "Solution: [ 2.  3. -1.]\n"
     ]
    }
   ],
   "source": [
    "import numpy as np\n",
    "\n",
    "\n",
    "def gaussian_elimination(A, b):\n",
    "    n = len(b)\n",
    "    # Forward elimination\n",
    "    for i in range(n):\n",
    "        # Pivoting\n",
    "        max_row = i + np.argmax(np.abs(A[i:, i]))\n",
    "        if A[max_row, i] == 0:\n",
    "            raise ValueError(\"Matrix is singular or nearly singular\")\n",
    "        if max_row != i:\n",
    "            A[[i, max_row]] = A[[max_row, i]]\n",
    "            b[[i, max_row]] = b[[max_row, i]]\n",
    "        \n",
    "        for j in range(i + 1, n):\n",
    "            factor = A[j, i] / A[i, i]\n",
    "            A[j, i:] -= factor * A[i, i:]\n",
    "            b[j] -= factor * b[i]\n",
    "    \n",
    "    # Back substitution\n",
    "    x = np.zeros(n)\n",
    "    for i in range(n - 1, -1, -1):\n",
    "        x[i] = (b[i] - np.dot(A[i, i + 1:], x[i + 1:])) / A[i, i]\n",
    "    \n",
    "    return x\n",
    "\n",
    "# Example usage\n",
    "if __name__ == \"__main__\":\n",
    "    A = np.array([[ 2,  1, -1],\n",
    "              [-3, -1,  2],\n",
    "              [-2,  1,  2]], dtype=float)\n",
    "\n",
    "    b = np.array([8, -11, -3], dtype=float)\n",
    "    \n",
    "    solution = gaussian_elimination(A, b)\n",
    "    print(\"Solution:\", solution)\n"
   ]
  },
  {
   "cell_type": "code",
   "execution_count": 4,
   "id": "0d4e96fa",
   "metadata": {},
   "outputs": [
    {
     "name": "stdout",
     "output_type": "stream",
     "text": [
      "Solution vector (x, y, z): [ 2.  3. -1.]\n"
     ]
    }
   ],
   "source": [
    "import numpy as np\n",
    "\n",
    "# Define coefficient matrix A and RHS vector b\n",
    "A = np.array([[ 2,  1, -1],\n",
    "              [-3, -1,  2],\n",
    "              [-2,  1,  2]], dtype=float)\n",
    "\n",
    "b = np.array([8, -11, -3], dtype=float)\n",
    "\n",
    "# Solve Ax = b\n",
    "x = np.linalg.solve(A, b)\n",
    "\n",
    "print(\"Solution vector (x, y, z):\", x)\n"
   ]
  }
 ],
 "metadata": {
  "kernelspec": {
   "display_name": "myenvironment",
   "language": "python",
   "name": "python3"
  },
  "language_info": {
   "codemirror_mode": {
    "name": "ipython",
    "version": 3
   },
   "file_extension": ".py",
   "mimetype": "text/x-python",
   "name": "python",
   "nbconvert_exporter": "python",
   "pygments_lexer": "ipython3",
   "version": "3.13.5"
  }
 },
 "nbformat": 4,
 "nbformat_minor": 5
}
