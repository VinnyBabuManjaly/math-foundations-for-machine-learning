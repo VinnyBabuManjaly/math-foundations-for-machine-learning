{
 "cells": [
  {
   "cell_type": "code",
   "execution_count": null,
   "id": "3b258d59",
   "metadata": {},
   "outputs": [],
   "source": [
    "# A linear transformation is a mathematical function that maps one vector to another, \n",
    "# using matrix multiplication, while preserving the properties of additivity and scalar \n",
    "# multiplication. "
   ]
  },
  {
   "cell_type": "code",
   "execution_count": 2,
   "id": "15d94019",
   "metadata": {},
   "outputs": [
    {
     "name": "stdout",
     "output_type": "stream",
     "text": [
      "Original Vector: [2 3]\n",
      "Scaled Vector: [4 6]\n"
     ]
    },
    {
     "data": {
      "image/png": "[encoded data removed]",
      "text/plain": [
       "<Figure size 640x480 with 1 Axes>"
      ]
     },
     "metadata": {},
     "output_type": "display_data"
    }
   ],
   "source": [
    "# Scaling:\n",
    "# Scaling involves multiplying a vector by a scalar, which changes its magnitude but not its direction.\n",
    "# Not just the individual components of the vector are scaled, but the entire vector is scaled uniformly.\n",
    "\n",
    "import numpy as np\n",
    "import matplotlib.pyplot as plt\n",
    "\n",
    "# Original vector\n",
    "v = np.array([2, 3])\n",
    "# Scaling factor\n",
    "scale_factor = 2\n",
    "# Scaled vector\n",
    "v_scaled = scale_factor * v\n",
    "print(\"Original Vector:\", v)\n",
    "print(\"Scaled Vector:\", v_scaled)\n",
    "\n",
    "# Plotting\n",
    "plt.quiver(0, 0, v[0], v[1], angles='xy', scale_units='xy', scale=1, color='r', label='Original Vector')\n",
    "plt.quiver(0, 0, v_scaled[0], v_scaled[1], angles='xy', scale_units='xy', scale=1, color='b', label='Scaled Vector')\n",
    "plt.xlim(-1, 7)\n",
    "plt.ylim(-1, 7)\n",
    "plt.grid()\n",
    "plt.axhline(0, color='black',linewidth=0.5, ls='--')\n",
    "plt.axvline(0, color='black',linewidth=0.5, ls='--')\n",
    "plt.gca().set_aspect('equal', adjustable='box')\n",
    "plt.legend()\n",
    "plt.title('Vector Scaling')\n",
    "plt.show()  \n"
   ]
  },
  {
   "cell_type": "code",
   "execution_count": null,
   "id": "b9659dcc",
   "metadata": {},
   "outputs": [
    {
     "name": "stdout",
     "output_type": "stream",
     "text": [
      "Rotation Matrix:\n",
      " [[ 6.123234e-17 -1.000000e+00]\n",
      " [ 1.000000e+00  6.123234e-17]]\n",
      "Original Vector: [1 0]\n",
      "Rotated Vector: [6.123234e-17 1.000000e+00]\n"
     ]
    }
   ],
   "source": [
    "# Rotation:\n",
    "# Rotation involves turning a vector around the origin by a certain angle, \n",
    "# changing its direction but not its magnitude.\n",
    "# The rotation is achieved using a rotation matrix.\n",
    "\n",
    "# Rotation Matrix:\n",
    "#       [cosθ -sinθ]\n",
    "#       [sinθ  cosθ]\n",
    "\n",
    "# Rotation angle in degrees\n",
    "theta = np.pi/2  # 90 degrees\n",
    "\n",
    "# Rotation matrix   \n",
    "# cos90 = 0, sin90 = 1\n",
    "rot_matrix = np.array([\n",
    "    [np.cos(theta), -np.sin(theta)],\n",
    "    [np.sin(theta),  np.cos(theta)]\n",
    "])\n",
    "print(\"Rotation Matrix:\\n\", rot_matrix)\n",
    "\n",
    "# Original vector\n",
    "vec = np.array([1, 0])\n",
    "\n",
    "# Rotated vector\n",
    "rotated = rot_matrix @ vec  # Output: [0, 1]\n",
    "\n",
    "print(\"Original Vector:\", vec)\n",
    "print(\"Rotated Vector:\", rotated)   \n",
    "# Output can be rounded to [0, 1] due to floating-point precision\n",
    "# i.e. Vector changes its direction, not its length."
   ]
  },
  {
   "cell_type": "code",
   "execution_count": 9,
   "id": "22ac8841",
   "metadata": {},
   "outputs": [
    {
     "name": "stdout",
     "output_type": "stream",
     "text": [
      "Original Vector: [3 4]\n",
      "Reflected Vector: [ 3 -4]\n"
     ]
    }
   ],
   "source": [
    "# Reflection\n",
    "# Flips vectors over a line, across the x- or y-axis.\n",
    "\n",
    "# Reflection Matrix (about x-axis):  [1  0]\n",
    "#                                    [0 -1]\n",
    "reflect_x = np.array([[1, 0], [0, -1]])\n",
    "\n",
    "# Original vector\n",
    "vec = np.array([3, 4])\n",
    "\n",
    "# Reflected vector\n",
    "flipped = reflect_x @ vec # Output: [3, -4]\n",
    "\n",
    "print(\"Original Vector:\", vec)\n",
    "print(\"Reflected Vector:\", flipped)\n",
    "\n",
    "# The vector “bounces” to the opposite side of the axis."
   ]
  },
  {
   "cell_type": "code",
   "execution_count": 10,
   "id": "558a6e40",
   "metadata": {},
   "outputs": [
    {
     "name": "stdout",
     "output_type": "stream",
     "text": [
      "Original Vector: [5 7]\n",
      "Projected Vector: [5 0]\n"
     ]
    }
   ],
   "source": [
    "# Projection\n",
    "# Projects one vector onto another, like casting a shadow.\n",
    "\n",
    "#  Projection Matrix (onto x-axis):  [1 0]\n",
    "#                                    [0 0]\n",
    "proj_x = np.array([[1, 0], [0, 0]])\n",
    "vec = np.array([5, 7])\n",
    "projected = proj_x @ vec  # Output: [5, 0]\n",
    "\n",
    "print(\"Original Vector:\", vec)\n",
    "print(\"Projected Vector:\", projected)\n",
    "\n",
    "# The vector is “flattened” onto the axis, losing its component perpendicular to that axis.\n",
    "# Or the vector collapses vertically onto the x-axis."
   ]
  },
  {
   "cell_type": "code",
   "execution_count": null,
   "id": "e062b6ce",
   "metadata": {},
   "outputs": [],
   "source": [
    "# Sources:\n",
    "# [1](https://www.linkedin.com/pulse/exploring-linear-algebra-python-numpy-rany-elhousieny-phd%E1%B4%AC%E1%B4%AE%E1%B4%B0)\n",
    "# [2](https://www.geeksforgeeks.org/machine-learning/linear-mapping/)\n",
    "# [3](https://mmas.github.io/linear-transformations-numpy)\n",
    "# [4](https://thepythoncode.com/article/image-transformations-using-opencv-in-python)\n",
    "# [5](https://tabreturn.github.io/code/processing/python/2018/08/11/processing.py_in_ten_lessons-4.2-_transformations.html)\n",
    "# [6](https://bvanderlei.github.io/jupyter-guide-to-linear-algebra/Linear_Transformations.html)\n",
    "# [7](https://www.youtube.com/watch?v=7h58wAzKPLY)\n",
    "# [8](https://people.duke.edu/~ccc14/sta-663-2016/06_LinearAlgebra1.html)\n",
    "# [9](https://www.khanacademy.org/a/visualizing-linear-transformations)\n",
    "# [10](https://www.geeksforgeeks.org/python/image-transformations-using-opencv-in-python/)"
   ]
  }
 ],
 "metadata": {
  "kernelspec": {
   "display_name": "base",
   "language": "python",
   "name": "python3"
  },
  "language_info": {
   "codemirror_mode": {
    "name": "ipython",
    "version": 3
   },
   "file_extension": ".py",
   "mimetype": "text/x-python",
   "name": "python",
   "nbconvert_exporter": "python",
   "pygments_lexer": "ipython3",
   "version": "3.13.5"
  }
 },
 "nbformat": 4,
 "nbformat_minor": 5
}
