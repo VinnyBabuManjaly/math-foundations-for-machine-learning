{
 "cells": [
  {
   "cell_type": "code",
   "execution_count": null,
   "id": "71db2804",
   "metadata": {},
   "outputs": [],
   "source": [
    "# Orthonormal and Orthogonal Vectors\n",
    "\n",
    "# Orthonormal vectors are both at right angles to each other (orthogonal: dot product = 0) and have a length of 1 (unit norm).\n",
    "\n",
    "# For example, e1 = (1, 0) and e2 = (0, 1) are orthonormal."
   ]
  },
  {
   "cell_type": "code",
   "execution_count": 1,
   "id": "518123a6",
   "metadata": {},
   "outputs": [
    {
     "name": "stdout",
     "output_type": "stream",
     "text": [
      "Dot product (should be 0): 0\n",
      "Norm of e1 (should be 1): 1.0\n",
      "Norm of e2 (should be 1): 1.0\n"
     ]
    }
   ],
   "source": [
    "import numpy as np  \n",
    "\n",
    "e1 = np.array([1, 0])\n",
    "e2 = np.array([0, 1])\n",
    "\n",
    "# Check orthogonality\n",
    "dot_product = np.dot(e1, e2)\n",
    "print(\"Dot product (should be 0):\", dot_product)\n",
    "\n",
    "# Check unit norm\n",
    "norm_e1 = np.linalg.norm(e1)\n",
    "norm_e2 = np.linalg.norm(e2)\n",
    "print(\"Norm of e1 (should be 1):\", norm_e1)\n",
    "print(\"Norm of e2 (should be 1):\", norm_e2)"
   ]
  },
  {
   "cell_type": "code",
   "execution_count": 3,
   "id": "000e65d2",
   "metadata": {},
   "outputs": [],
   "source": [
    "# Orthogonal Matrix\n",
    "\n",
    "# An orthogonal matrix (usually denoted Q) has rows and columns made up of orthonormal vectors.\n",
    "\n",
    "# For a 2×2 case:\n",
    "# Q = [[1, 0],\n",
    "#      [0, 1]]\n",
    "\n",
    "# This is orthogonal—the identity matrix.\n",
    "Q = np.array([[1, 0], [0, 1]])"
   ]
  },
  {
   "cell_type": "code",
   "execution_count": null,
   "id": "84a69905",
   "metadata": {},
   "outputs": [
    {
     "name": "stdout",
     "output_type": "stream",
     "text": [
      "Original Matrix A:\n",
      " [[1 2]\n",
      " [3 4]]\n",
      "\n",
      "Transposed Matrix A_T:\n",
      " [[1 3]\n",
      " [2 4]]\n",
      "[[1 3]\n",
      " [2 4]]\n"
     ]
    }
   ],
   "source": [
    "# Matrix Transpose\n",
    "\n",
    "# The transpose of a matrix flips its rows and columns.\n",
    "A = np.array([[1, 2], [3, 4]])\n",
    "A_T = np.transpose(A)\n",
    "\n",
    "print(\"Original Matrix A:\\n\", A)\n",
    "print(\"\\nTransposed Matrix A_T:\\n\", A_T)\n",
    "\n",
    "# or using .T\n",
    "print(A.T)  \n",
    "\n",
    "# \"Diagonal elements stay the same\" means values like A[0,0] and A[1,1] don’t move when transposing."
   ]
  },
  {
   "cell_type": "code",
   "execution_count": null,
   "id": "f37cdbe8",
   "metadata": {},
   "outputs": [
    {
     "name": "stdout",
     "output_type": "stream",
     "text": [
      "Q^T * Q:\n",
      " [[1 0]\n",
      " [0 1]]\n",
      "Q^T:\n",
      " [[1 0]\n",
      " [0 1]]\n",
      "Q^-1:\n",
      " [[1. 0.]\n",
      " [0. 1.]]\n",
      "Q^T equals Q^-1: True\n"
     ]
    }
   ],
   "source": [
    "# Key Property of Orthogonal Matrices\n",
    "\n",
    "# For an orthogonal matrix Q:\n",
    "# Qᵀ Q = Q Qᵀ = I\n",
    "\n",
    "# Multiplying its transpose by itself yields the identity matrix (1s on the diagonal, 0s elsewhere).\n",
    "\n",
    "Q = np.array([[1, 0], [0, 1]])\n",
    "Q_T = np.transpose(Q)\n",
    "identity = np.dot(Q_T, Q)\n",
    "print(\"Q^T * Q:\\n\", identity)\n",
    "\n",
    "# For orthogonal matrices, the transpose is the same as the inverse:\n",
    "# Qᵀ = Q⁻¹\n",
    "\n",
    "Q_inv = np.linalg.inv(Q)\n",
    "print(\"Q^T:\\n\", Q_T)\n",
    "print(\"Q^-1:\\n\", Q_inv)\n",
    "print(\"Q^T equals Q^-1:\", np.array_equal(Q_T, Q_inv))\n",
    "\n",
    "\n",
    "# This is not usually true for a random matrix."
   ]
  },
  {
   "cell_type": "code",
   "execution_count": null,
   "id": "4267e960",
   "metadata": {},
   "outputs": [],
   "source": [
    "# Sources:\n",
    "# [1](https://stackoverflow.com/questions/38426349/how-to-create-random-orthonormal-matrix-in-python-numpy)\n",
    "# [2](https://datascienceparichay.com/article/numpy-check-if-a-matrix-is-orthogonal/)\n",
    "# [3](https://www.geeksforgeeks.org/dsa/check-whether-given-matrix-orthogonal-not/)\n",
    "# [4](https://github.com/xbeat/Machine-Learning/blob/main/Orthogonal%20Vectors%20in%20Python.md)\n",
    "# [5](https://bvanderlei.github.io/jupyter-guide-to-linear-algebra/Orthogonalization.html)\n",
    "# [6](https://www.learndatasci.com/glossary/orthogonal-and-orthonormal-vectors/)\n",
    "# [7](https://docs.scipy.org/doc/scipy/reference/generated/scipy.stats.ortho_group.html)\n",
    "# [8](https://www.thesecuritybuddy.com/linear-algebra/how-to-check-whether-a-matrix-is-an-orthogonal-matrix/)\n",
    "# [9](https://www.machinelearningplus.com/linear-algebra/orthogonal-matrix/)"
   ]
  }
 ],
 "metadata": {
  "kernelspec": {
   "display_name": "myenvironment",
   "language": "python",
   "name": "python3"
  },
  "language_info": {
   "codemirror_mode": {
    "name": "ipython",
    "version": 3
   },
   "file_extension": ".py",
   "mimetype": "text/x-python",
   "name": "python",
   "nbconvert_exporter": "python",
   "pygments_lexer": "ipython3",
   "version": "3.13.5"
  }
 },
 "nbformat": 4,
 "nbformat_minor": 5
}
