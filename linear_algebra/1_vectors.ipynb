{
 "cells": [
  {
   "cell_type": "code",
   "execution_count": null,
   "id": "8c63e243",
   "metadata": {},
   "outputs": [],
   "source": [
    "# Import necessary libraries\n",
    "import numpy as np"
   ]
  },
  {
   "cell_type": "code",
   "execution_count": null,
   "id": "9c83762a",
   "metadata": {},
   "outputs": [
    {
     "data": {
      "text/plain": [
       "array([5, 7, 9])"
      ]
     },
     "execution_count": 7,
     "metadata": {},
     "output_type": "execute_result"
    }
   ],
   "source": [
    "# Vectors\n",
    "# Let's define some vectors for our examples\n",
    "a = np.array([1, 2, 3])\n",
    "b = np.array([4, 5, 6])\n",
    "c = np.array([7, 8, 9, 10])\n"
   ]
  },
  {
   "cell_type": "code",
   "execution_count": null,
   "id": "6b782ac2",
   "metadata": {},
   "outputs": [],
   "source": [
    "# Vector addition\n",
    "a+b\n"
   ]
  },
  {
   "cell_type": "code",
   "execution_count": null,
   "id": "a4042980",
   "metadata": {},
   "outputs": [
    {
     "data": {
      "text/plain": [
       "array([-3, -3, -3])"
      ]
     },
     "execution_count": 11,
     "metadata": {},
     "output_type": "execute_result"
    }
   ],
   "source": [
    "# Vector subtraction\n",
    "a-b"
   ]
  },
  {
   "cell_type": "code",
   "execution_count": null,
   "id": "608a73dd",
   "metadata": {},
   "outputs": [
    {
     "data": {
      "text/plain": [
       "array([ 4, 10, 18])"
      ]
     },
     "execution_count": 13,
     "metadata": {},
     "output_type": "execute_result"
    }
   ],
   "source": [
    "# Vector multiplication (element-wise)\n",
    "a*b"
   ]
  },
  {
   "cell_type": "code",
   "execution_count": null,
   "id": "2ebd41c3",
   "metadata": {},
   "outputs": [
    {
     "data": {
      "text/plain": [
       "array([4. , 2.5, 2. ])"
      ]
     },
     "execution_count": 14,
     "metadata": {},
     "output_type": "execute_result"
    }
   ],
   "source": [
    "# Vector division (element-wise)\n",
    "b/a"
   ]
  },
  {
   "cell_type": "code",
   "execution_count": null,
   "id": "992bb55d",
   "metadata": {},
   "outputs": [
    {
     "data": {
      "text/plain": [
       "array([2, 4, 6])"
      ]
     },
     "execution_count": 15,
     "metadata": {},
     "output_type": "execute_result"
    }
   ],
   "source": [
    "# Scalar multiplication on a vector\n",
    "2*a"
   ]
  },
  {
   "cell_type": "code",
   "execution_count": null,
   "id": "374d3881",
   "metadata": {},
   "outputs": [
    {
     "data": {
      "text/plain": [
       "[1, 2, 3, 1, 2, 3]"
      ]
     },
     "execution_count": 16,
     "metadata": {},
     "output_type": "execute_result"
    }
   ],
   "source": [
    "# Scalar multiplication on a vector (using list)\n",
    "2*[1, 2, 3]"
   ]
  },
  {
   "cell_type": "code",
   "execution_count": 35,
   "id": "b170f82a",
   "metadata": {},
   "outputs": [
    {
     "name": "stdout",
     "output_type": "stream",
     "text": [
      "32\n",
      "32\n"
     ]
    }
   ],
   "source": [
    "# Dot product\n",
    "a = np.array([1, 2, 3])\n",
    "b = np.array([4, 5, 6])\n",
    "\n",
    "np.dot(a, b)\n",
    "np.dot(b, a)\n",
    "\n",
    "print(np.dot(a, b))  # 1*4 + 2*5 + 3*6 = 4+10+18=32\n",
    "print(np.dot(b, a))  # 4*1 + 5*2 + 6*3 = 4+10+18=32\n"
   ]
  },
  {
   "cell_type": "code",
   "execution_count": 36,
   "id": "216ec0d4",
   "metadata": {},
   "outputs": [
    {
     "name": "stdout",
     "output_type": "stream",
     "text": [
      "82\n"
     ]
    },
    {
     "data": {
      "text/plain": [
       "np.True_"
      ]
     },
     "execution_count": 36,
     "metadata": {},
     "output_type": "execute_result"
    }
   ],
   "source": [
    "\n",
    "c = np.array([7, 8, 9])\n",
    "\n",
    "print(np.dot(a, b+c))\n",
    "\n",
    "# Distributive property of dot product\n",
    "np.dot(a, b+c) == np.dot(a, b) + np.dot(a, c)"
   ]
  },
  {
   "cell_type": "code",
   "execution_count": null,
   "id": "efb17efb",
   "metadata": {},
   "outputs": [
    {
     "data": {
      "text/plain": [
       "np.float64(3.7416573867739413)"
      ]
     },
     "execution_count": 25,
     "metadata": {},
     "output_type": "execute_result"
    }
   ],
   "source": [
    "from numpy import linalg as lng\n",
    "\n",
    "# Magnitude/norm/length of vector  \n",
    "# ||a|| = sqrt(a[0]^2 + a[1]^2 + a[2]^2)   \n",
    "\n",
    "a = np.array([1, 2, 3])\n",
    "lng.norm(a)"
   ]
  },
  {
   "cell_type": "code",
   "execution_count": null,
   "id": "03384237",
   "metadata": {},
   "outputs": [],
   "source": [
    "# Vector Projection in Linear Algebra\n",
    "\n",
    "# A projection is the process of finding how much of one vector lies in the direction of another—like the \"shadow\" of one vector onto another.\n",
    "\n",
    "# Core Idea:\n",
    "# The projection of vector a onto vector b shows how much a aligns with b. Geometrically, it’s the shadow cast by a onto the line defined by b.\n",
    "\n",
    "# Formula:\n",
    "# For vectors a and b:\n",
    "# Projection of a onto b = (a · b / |b|²) * b\n",
    "# Where:\n",
    "#   a · b is the dot product.\n",
    "#   |b| is the magnitude (length) of b.\n",
    "\n",
    "# The result is a vector in the same direction as b, with length equal to the component of a along b."
   ]
  },
  {
   "cell_type": "code",
   "execution_count": null,
   "id": "f9fd15c7",
   "metadata": {},
   "outputs": [],
   "source": [
    "import  numpy as np\n",
    "\n",
    "a = np.array([2, 3])\n",
    "b = np.array([1, 0])\n",
    "\n",
    "# Compute projection of a on b\n",
    "# Projection of a onto b = (a · b / |b|²) * b\n",
    "projection_length = np.dot(a, b)/ np.dot(b, b)\n",
    "projection_vector = projection_length * b\n",
    "\n",
    "print(projection_vector)    # Output: [2.0]"
   ]
  },
  {
   "cell_type": "code",
   "execution_count": 39,
   "id": "8e96e12e",
   "metadata": {},
   "outputs": [
    {
     "name": "stdout",
     "output_type": "stream",
     "text": [
      "[2.28571429 4.57142857 6.85714286]\n",
      "[1.66233766 2.07792208 2.49350649]\n"
     ]
    }
   ],
   "source": [
    "# Vector projection\n",
    "\n",
    "# Projecting b onto a\n",
    "# proj_a(b) = (a . b / ||a||^2) * a i.e. projecting b onto a\n",
    "projbona = (np.dot(a, b) / lng.norm(a)**2) * a\n",
    "print(projbona)\n",
    "\n",
    "#  Projecting a onto b\n",
    "# proj_b(a) = (b . a / ||b||^2) * b i.e. projecting a onto b\n",
    "projaonb = (np.dot(b, a) / lng.norm(b)**2) * b\n",
    "print(projaonb)"
   ]
  },
  {
   "cell_type": "code",
   "execution_count": 49,
   "id": "cf7671da",
   "metadata": {},
   "outputs": [
    {
     "name": "stdout",
     "output_type": "stream",
     "text": [
      "Dot product of f1 and f2: 0\n",
      "Coefficients x1 and x2: 0.9999999999999998, -1.9999999999999996\n",
      "Vector a expressed in terms of f1 and f2: [ 4. -3.]\n"
     ]
    }
   ],
   "source": [
    "# Changing basis of vectors\n",
    "\n",
    "a = np.array([4, -3])\n",
    "\n",
    "# Let's say we want to express vector a in terms of two new basis vectors f1 and f2.\n",
    "# We can find the coefficients x1 and x2 such that a = x1 * f1 + x2 * f2.\n",
    "f1 = np.array([2, 1])\n",
    "f2 = np.array([-1, 2])\n",
    "\n",
    "f1dot_f2 = np.dot(f1, f2)\n",
    "print(f\"Dot product of f1 and f2: {f1dot_f2}\")  # This will print the dot product of f1 and f2\n",
    "# Dot product of f1 and f2: 0 implies that f1 and f2 are orthogonal\n",
    "\n",
    "# Expressing a in terms of f1 and f2\n",
    "# a = x1 * f1 + x2 * f2 \n",
    "\n",
    "# To find x1 and x2, we can use the following equations:\n",
    "# x1 = (a . f1) / ||f1||^2\n",
    "# x2 = (a . f2) / ||f2||^2\n",
    "x1 = (np.dot(a, f1) / lng.norm(f1)**2)\n",
    "x2 = (np.dot(a, f2) / lng.norm(f2)**2)\n",
    "\n",
    "print(f\"Coefficients x1 and x2: {x1}, {x2}\")  # This will print the coefficients x1 and x2\n",
    "\n",
    "# Now we can express a in terms of f1 and f2\n",
    "a_in_f1_f2 = x1 * f1 + x2 * f2\n",
    "\n",
    "# To change the basis of a vector, we can use the coefficients x1 and x2\n",
    "# to express a in terms of the new basis vectors f1 and f2.\n",
    "# This is useful in many applications, such as computer graphics and physics simulations.\n",
    "\n",
    "print(f\"Vector a expressed in terms of f1 and f2: {a_in_f1_f2}\")    "
   ]
  },
  {
   "cell_type": "code",
   "execution_count": 45,
   "id": "c1354cf7",
   "metadata": {},
   "outputs": [
    {
     "name": "stdout",
     "output_type": "stream",
     "text": [
      "Projection of a onto f1: [2. 1.]\n",
      "Projection of a onto f2: [ 2. -4.]\n"
     ]
    }
   ],
   "source": [
    "# Formula for projecting a onto f1 and f2:\n",
    "# proj_f1(a) = (a . f1 / ||f1||^2) * f1\n",
    "# proj_f2(a) = (a . f2 / ||f2||^2) * f2\n",
    "\n",
    "# Projecting a onto f1 and f2\n",
    "proj_a_f1 = (np.dot(a, f1) / lng.norm(f1)**2) * f1\n",
    "proj_a_f2 = (np.dot(a, f2) / lng.norm(f2)**2) * f2\n",
    "\n",
    "print(f\"Projection of a onto f1: {proj_a_f1}\")  # This will print the projection of a onto f1\n",
    "print(f\"Projection of a onto f2: {proj_a_f2}\")  # This will print the projection of a onto f2"
   ]
  }
 ],
 "metadata": {
  "kernelspec": {
   "display_name": "myenvironment",
   "language": "python",
   "name": "python3"
  },
  "language_info": {
   "codemirror_mode": {
    "name": "ipython",
    "version": 3
   },
   "file_extension": ".py",
   "mimetype": "text/x-python",
   "name": "python",
   "nbconvert_exporter": "python",
   "pygments_lexer": "ipython3",
   "version": "3.13.5"
  }
 },
 "nbformat": 4,
 "nbformat_minor": 5
}
