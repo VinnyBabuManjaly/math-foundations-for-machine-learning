{
 "cells": [
  {
   "cell_type": "code",
   "execution_count": null,
   "id": "6c859ca4",
   "metadata": {},
   "outputs": [],
   "source": [
    "# Distributions in probability and statistics are mathematical functions that assign probabilities to each possible outcome of a random variable, describing how data is spread and the likelihood of different outcomes."
   ]
  },
  {
   "cell_type": "code",
   "execution_count": null,
   "id": "b598d8a4",
   "metadata": {},
   "outputs": [],
   "source": [
    "# Distribution Definition\n",
    "# A distribution shows all possible values a variable can take and how frequently these values occur. For discrete variables, a probability mass function (PMF) assigns probabilities to countable outcomes; for continuous variables, a probability density function (PDF) describes probabilities across a range.\n",
    "\n",
    "# Types of Distributions\n",
    "# Distributions are mainly categorized as discrete or continuous:\n",
    "\n",
    "# Discrete distributions (e.g. binomial, Poisson) describe countable outcomes like the number of website clicks per day.\n",
    "\n",
    "# Continuous distributions (e.g. normal, exponential) apply to variables that can take any value within a range such as time spent on a website.\n",
    "\n",
    "# Key Properties\n",
    "# A distribution is defined by its parameters, such as mean, variance, or probability.\n",
    "\n",
    "# The total probability assigned to all possible outcomes always equals one.\n",
    "\n",
    "# The shape of a distribution reflects how data is concentrated around certain values (central tendency), its spread (variance), and other characteristics such as symmetry or skew.\n",
    "\n",
    "# Examples\n",
    "# Binomial distribution: Used for countable, binary events like coin flips.\n",
    "\n",
    "# Normal distribution: Applies to continuous variables, often resulting in the familiar bell-shaped curve for phenomena like heights or test scores.\n",
    "\n"
   ]
  },
  {
   "cell_type": "code",
   "execution_count": null,
   "id": "de2fe969",
   "metadata": {},
   "outputs": [],
   "source": [
    "# Sources:\n",
    "# [1](https://www.investopedia.com/terms/p/probabilitydistribution.asp)\n",
    "# [2](https://en.wikipedia.org/wiki/Probability_distribution)\n",
    "# [3](https://365datascience.com/tutorials/statistics-tutorials/distribution-in-statistics/)\n",
    "# [4](https://library.fiveable.me/key-terms/ap-stats/distribution)\n",
    "# [5](https://www.geeksforgeeks.org/engineering-mathematics/introduction-of-statistical-data-distributions/)\n",
    "# [6](https://www.sapien.io/glossary/definition/statistical-distribution)\n",
    "# [7](https://www.statistics.com/glossary/continuous-vs-discrete-distributions/)\n",
    "# [8](https://www.scribbr.com/statistics/probability-distributions/)\n",
    "# [9](https://openstax.org/books/principles-data-science/pages/3-5-discrete-and-continuous-probability-distributions)\n",
    "# [10](https://ds1.datascience.uchicago.edu/12/1/distributions.html)\n",
    "# [11](https://support.minitab.com/en-us/minitab/help-and-how-to/probability-distributions-random-data-and-resampling-analyses/supporting-topics/basics/continuous-and-discrete-probability-distributions/)\n",
    "# [12](https://pages.stern.nyu.edu/~adamodar/New_Home_Page/StatFile/statdistns.htm)\n",
    "# [13](https://www.geeksforgeeks.org/maths/probability-distribution/)\n",
    "# [14](https://en.wikipedia.org/wiki/List_of_probability_distributions)\n",
    "# [15](https://datasciencedojo.com/blog/types-of-statistical-distributions-in-ml/)\n",
    "# [16](https://mathworld.wolfram.com/StatisticalDistribution.html)\n",
    "# [17](https://www.investopedia.com/terms/d/discrete-distribution.asp)\n",
    "# [18](https://www.sciencedirect.com/topics/engineering/statistical-distribution)\n",
    "# [19](https://stattrek.com/probability-distributions/discrete-continuous)\n",
    "# [20](https://www.itl.nist.gov/div898/handbook/eda/section3/eda366.htm)"
   ]
  }
 ],
 "metadata": {
  "language_info": {
   "name": "python"
  }
 },
 "nbformat": 4,
 "nbformat_minor": 5
}
