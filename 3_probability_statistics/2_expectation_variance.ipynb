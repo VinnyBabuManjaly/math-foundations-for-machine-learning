{
 "cells": [
  {
   "cell_type": "code",
   "execution_count": null,
   "id": "936f0deb",
   "metadata": {},
   "outputs": [],
   "source": [
    "# Expectation (mean) and variance are fundamental concepts in probability and \n",
    "# statistics that describe the central tendency and spread of random variables. "
   ]
  },
  {
   "cell_type": "code",
   "execution_count": null,
   "id": "3aad9f95",
   "metadata": {},
   "outputs": [],
   "source": [
    "# Expectation (Mean):\n",
    "\n",
    "# The expectation or mean is the average or central value of a random variable.\n",
    "\n",
    "# For discrete random variables, it is calculated as the sum of each possible \n",
    "# value multiplied by its probability. The formula is:\n",
    "#       Expected value (E[X]) = Sum over all x of (x * P(x))\n",
    "\n",
    "# For continuous random variables, it is calculated as the integral of the \n",
    "# variable multiplied by its probability density function:\n",
    "#       Expected value (E[X]) = Integral over all x of (x * f(x) dx)\n",
    "\n",
    "# The expectation indicates the center or balance point of the distribution."
   ]
  },
  {
   "cell_type": "code",
   "execution_count": null,
   "id": "50723510",
   "metadata": {},
   "outputs": [],
   "source": [
    "# Variance:\n",
    "\n",
    "# Variance measures how much the values of the random variable spread out or \n",
    "# deviate from the mean.\n",
    "\n",
    "# A high variance means values are spread widely; a low variance means values \n",
    "# are close to the mean.\n",
    "\n",
    "# The formula for variance is the expected value of the squared deviations from \n",
    "# the mean:\n",
    "# Variance (Var(X)) = E[(X - E[X])^2] \n",
    "#                   = E[X^2] - (E[X])^2\n",
    "\n",
    "# This means variance is the expectation of X squared minus the square of the \n",
    "# expectation of X."
   ]
  },
  {
   "cell_type": "code",
   "execution_count": 3,
   "id": "ee422207",
   "metadata": {},
   "outputs": [
    {
     "name": "stdout",
     "output_type": "stream",
     "text": [
      "Expected value: 2.4000000000000004\n",
      "Variance: 0.839999999999999\n"
     ]
    }
   ],
   "source": [
    "# Example problem:\n",
    "\n",
    "# Suppose a website tracks the number of user logins per hour with this \n",
    "# probability distribution:\n",
    "# 1 login with probability 0.2\n",
    "# 2 logins with probability 0.3\n",
    "# 3 logins with probability 0.4\n",
    "# 4 logins with probability 0.1\n",
    "\n",
    "values = [1, 2, 3, 4]\n",
    "probabilities = [0.2, 0.3, 0.4, 0.1]\n",
    "\n",
    "# Step 1: Expected value \n",
    "#       = Sum over all x of (x * P(x))\n",
    "#       = (1 * 0.2) + (2 * 0.3) + (3 * 0.4) + (4 * 0.1) \n",
    "#       = 0.2 + 0.6 + 1.2 + 0.4 \n",
    "#       = 2.4 logins\n",
    "expected_value = sum(v * p for v, p in zip(values, probabilities))\n",
    "\n",
    "# Step 2: Calculate E[X^2] \n",
    "#       = Sum over all x of (x^2 * P(x))\n",
    "#       = (1^2 * 0.2) + (2^2 * 0.3) + (3^2 * 0.4) + (4^2 * 0.1) \n",
    "#       = (1 * 0.2) + (4 * 0.3) + (9 * 0.4) + (16 * 0.1) \n",
    "#       = 0.2 + 1.2 + 3.6 + 1.6 \n",
    "#       = 6.6\n",
    "expected_value_squared = sum((v ** 2) * p for v, p in zip(values, probabilities))\n",
    "\n",
    "# Step 3: Variance = E[X^2] - (E[X])^2 \n",
    "#                   = 6.6 - (2.4)^2 \n",
    "#                   = 6.6 - 5.76 \n",
    "#                   = 0.84\n",
    "variance = expected_value_squared - expected_value ** 2\n",
    "\n",
    "print(\"Expected value:\", expected_value)\n",
    "print(\"Variance:\", variance)"
   ]
  },
  {
   "cell_type": "code",
   "execution_count": null,
   "id": "be13810f",
   "metadata": {},
   "outputs": [],
   "source": [
    "# Sources:\n",
    "# [1](https://www.statology.org/expected-value-in-python/)\n",
    "# [2](https://www.geeksforgeeks.org/expected-value-and-variance/)\n",
    "# [3](https://stackoverflow.com/questions/35583302/how-can-i-calculate-the-variance-of-a-list-in-python)\n",
    "# [4](https://www.probabilitycourse.com/chapter4/4_1_2_expected_val_variance.php)\n",
    "# [5](https://www.w3schools.com/python/ref_stat_variance.asp)\n",
    "# [6](https://blogboard.io/blog/knowledge/python-variance/)\n",
    "# [7](https://campus.datacamp.com/courses/foundations-of-probability-in-python/lets-start-flipping-coins?ex=8)\n",
    "# [8](https://www.youtube.com/watch?v=ikcUBqELZVU)\n",
    "# [9](https://www.geeksforgeeks.org/data-science/calculate-the-average-variance-and-standard-deviation-in-python-using-numpy/)\n",
    "# [10](https://www.machinelearningmastery.com/introduction-to-expected-value-variance-and-covariance/)"
   ]
  }
 ],
 "metadata": {
  "kernelspec": {
   "display_name": "base",
   "language": "python",
   "name": "python3"
  },
  "language_info": {
   "codemirror_mode": {
    "name": "ipython",
    "version": 3
   },
   "file_extension": ".py",
   "mimetype": "text/x-python",
   "name": "python",
   "nbconvert_exporter": "python",
   "pygments_lexer": "ipython3",
   "version": "3.13.5"
  }
 },
 "nbformat": 4,
 "nbformat_minor": 5
}
